{
 "cells": [
  {
   "cell_type": "code",
   "execution_count": 11,
   "id": "31e047a1-4562-4e90-ba75-0870667997cb",
   "metadata": {},
   "outputs": [
    {
     "name": "stdin",
     "output_type": "stream",
     "text": [
      "Enter the Size of Array 3\n",
      "enter the element 4\n",
      "enter the element 2\n",
      "enter the element 3\n"
     ]
    },
    {
     "name": "stdout",
     "output_type": "stream",
     "text": [
      "[4, 2, 3]\n",
      "4\n",
      "2\n",
      "3\n"
     ]
    }
   ],
   "source": [
    "import numpy as np\n",
    "a=[]\n",
    "size=int(input('Enter the Size of Array'))\n",
    "for i in range(size):\n",
    "    element=int(input('enter the element'))\n",
    "    a.append(element)\n",
    "print(a)  \n",
    "arr=np.array(a)\n",
    "arr\n",
    "for i in range(arr.size):\n",
    "    print(arr[i])\n",
    "\n"
   ]
  },
  {
   "cell_type": "code",
   "execution_count": 28,
   "id": "1a603681-e1ad-458f-9240-55ab85477782",
   "metadata": {},
   "outputs": [
    {
     "name": "stdin",
     "output_type": "stream",
     "text": [
      "Enter the Number of Rows 3\n",
      "Enter the Number of col 3\n",
      "Enter the Elements in Matrix 1\n",
      "Enter the Elements in Matrix 2\n",
      "Enter the Elements in Matrix 3\n",
      "Enter the Elements in Matrix 4\n",
      "Enter the Elements in Matrix 5\n",
      "Enter the Elements in Matrix 6\n",
      "Enter the Elements in Matrix 7\n",
      "Enter the Elements in Matrix 8\n",
      "Enter the Elements in Matrix 9\n"
     ]
    },
    {
     "name": "stdout",
     "output_type": "stream",
     "text": [
      "1 2 3 \n",
      "4 5 6 \n",
      "7 8 9 \n"
     ]
    }
   ],
   "source": [
    "import numpy as np\n",
    "matrix=[]\n",
    "rows=int(input('Enter the Number of Rows'))\n",
    "col=int(input('Enter the Number of col'))\n",
    "for i in range(rows):\n",
    "    a=[]\n",
    "    for j in range(col):\n",
    "        val=int(input('Enter the Elements in Matrix'))\n",
    "        a.append(val)\n",
    "    matrix.append(a)\n",
    "arr=np.array(matrix)    \n",
    "for i in range(rows):\n",
    "    for j in range(col):\n",
    "        print(arr[i][j],end=' ')\n",
    "        \n",
    "    print()\n",
    "\n",
    "# arr=np.array(matrix)\n",
    "# arr"
   ]
  },
  {
   "cell_type": "code",
   "execution_count": null,
   "id": "7ef61ca8-c375-470f-8830-22961186bbfe",
   "metadata": {},
   "outputs": [],
   "source": []
  },
  {
   "cell_type": "code",
   "execution_count": null,
   "id": "c8ace97a-4997-4f25-88cf-ca056ccab9b6",
   "metadata": {},
   "outputs": [],
   "source": []
  },
  {
   "cell_type": "code",
   "execution_count": null,
   "id": "911a2a2f-69f1-4b37-ab1b-5b9d9c75e28f",
   "metadata": {},
   "outputs": [],
   "source": []
  },
  {
   "cell_type": "code",
   "execution_count": null,
   "id": "86a96292-2188-4b8e-be42-62a9bcf7fe43",
   "metadata": {},
   "outputs": [],
   "source": []
  }
 ],
 "metadata": {
  "kernelspec": {
   "display_name": "Python 3 (ipykernel)",
   "language": "python",
   "name": "python3"
  },
  "language_info": {
   "codemirror_mode": {
    "name": "ipython",
    "version": 3
   },
   "file_extension": ".py",
   "mimetype": "text/x-python",
   "name": "python",
   "nbconvert_exporter": "python",
   "pygments_lexer": "ipython3",
   "version": "3.12.7"
  }
 },
 "nbformat": 4,
 "nbformat_minor": 5
}
