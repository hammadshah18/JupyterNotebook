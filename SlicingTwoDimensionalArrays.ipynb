{
 "cells": [
  {
   "cell_type": "markdown",
   "id": "a2257e3c-99b2-4e8b-a915-9bac79a60c52",
   "metadata": {},
   "source": [
    "<h1>Slicing and indexnig in two dimensional Arrays</h1>"
   ]
  },
  {
   "cell_type": "code",
   "execution_count": 13,
   "id": "f27e0342-b676-49b5-815b-c59e73394f90",
   "metadata": {},
   "outputs": [
    {
     "data": {
      "text/plain": [
       "array([[1, 2, 3],\n",
       "       [2, 3, 4],\n",
       "       [5, 6, 7]])"
      ]
     },
     "execution_count": 13,
     "metadata": {},
     "output_type": "execute_result"
    }
   ],
   "source": [
    "import numpy as np\n",
    "arr=np.array([[1,2,3],[2,3,4],[5,6,7]])\n",
    "arr"
   ]
  },
  {
   "cell_type": "code",
   "execution_count": 15,
   "id": "21aaf11e-ad79-4ea9-884e-8bdde240defc",
   "metadata": {},
   "outputs": [
    {
     "data": {
      "text/plain": [
       "array([[1, 2],\n",
       "       [2, 3],\n",
       "       [5, 6]])"
      ]
     },
     "execution_count": 15,
     "metadata": {},
     "output_type": "execute_result"
    }
   ],
   "source": [
    "arr[0:3,0:2] # staring two o:3 tells about rows range and further will tell about col range"
   ]
  },
  {
   "cell_type": "code",
   "execution_count": 44,
   "id": "139466de-941f-428e-8b1d-440e5566bf9e",
   "metadata": {},
   "outputs": [
    {
     "data": {
      "text/plain": [
       "array([[341, 365, 469, 213,  87],\n",
       "       [276, 170, 323, 119, 467],\n",
       "       [297, 456, 442,   8, 269],\n",
       "       [267, 450, 369, 217, 285],\n",
       "       [271, 419,  22,  55, 201],\n",
       "       [ 38, 461, 231, 187, 269]])"
      ]
     },
     "execution_count": 44,
     "metadata": {},
     "output_type": "execute_result"
    }
   ],
   "source": [
    "import numpy as np\n",
    "np.random.seed(111)\n",
    "arr=np.random.randint(1,500,30).reshape(6,5)\n",
    "arr"
   ]
  },
  {
   "cell_type": "code",
   "execution_count": 42,
   "id": "a866d58d-41cc-4715-8c67-827817314c75",
   "metadata": {},
   "outputs": [
    {
     "data": {
      "text/plain": [
       "array([[369, 217, 285],\n",
       "       [ 22,  55, 201]])"
      ]
     },
     "execution_count": 42,
     "metadata": {},
     "output_type": "execute_result"
    }
   ],
   "source": [
    "import numpy as np\n",
    "np.random.seed(111)\n",
    "arr=np.random.randint(1,500,30)\n",
    "arr1=arr.reshape(6,5)\n",
    "arr1[3:5,2:]"
   ]
  },
  {
   "cell_type": "code",
   "execution_count": null,
   "id": "34bcc2b2-23b0-43a6-ad72-715ce4379deb",
   "metadata": {},
   "outputs": [],
   "source": []
  }
 ],
 "metadata": {
  "kernelspec": {
   "display_name": "Python 3 (ipykernel)",
   "language": "python",
   "name": "python3"
  },
  "language_info": {
   "codemirror_mode": {
    "name": "ipython",
    "version": 3
   },
   "file_extension": ".py",
   "mimetype": "text/x-python",
   "name": "python",
   "nbconvert_exporter": "python",
   "pygments_lexer": "ipython3",
   "version": "3.12.7"
  }
 },
 "nbformat": 4,
 "nbformat_minor": 5
}
