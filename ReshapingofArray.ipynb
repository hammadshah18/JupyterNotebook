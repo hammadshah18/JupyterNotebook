{
 "cells": [
  {
   "cell_type": "markdown",
   "id": "6d5b6516-e4e2-4a1e-a5f0-5889ff65e76e",
   "metadata": {},
   "source": [
    "<h1>Converting 1D Array to 2D Array</h1>"
   ]
  },
  {
   "cell_type": "code",
   "execution_count": 21,
   "id": "cb1db706-9e6a-4c1f-8b02-8c0176257c47",
   "metadata": {},
   "outputs": [
    {
     "data": {
      "text/plain": [
       "array([[41,  8, 44, 20],\n",
       "       [44, 37, 41,  1],\n",
       "       [17, 38,  4, 19]])"
      ]
     },
     "execution_count": 21,
     "metadata": {},
     "output_type": "execute_result"
    }
   ],
   "source": [
    "import numpy as np\n",
    "arr=np.random.randint(1,50,12)\n",
    "arr.reshape  # this reshape keyword will reshape it \n",
    "arr=arr.reshape(3,4)  #it will tell how many row and column will bhi there\n",
    "arr"
   ]
  },
  {
   "cell_type": "code",
   "execution_count": 29,
   "id": "7e73f33f-abd9-408e-b739-4e774cbe62e3",
   "metadata": {},
   "outputs": [
    {
     "data": {
      "text/plain": [
       "array([29, 47, 12, 41, 48,  3, 20, 38, 23, 37, 48, 19])"
      ]
     },
     "execution_count": 29,
     "metadata": {},
     "output_type": "execute_result"
    }
   ],
   "source": [
    "import numpy as np\n",
    "arr=np.random.randint(1,50,12)\n",
    "arr.reshape  # this reshape keyword will reshape it \n",
    "arr=arr.reshape(3,4)  #it will tell how many row and column will bhi there\n",
    "arr=arr.reshape(12)\n",
    "arr"
   ]
  },
  {
   "cell_type": "markdown",
   "id": "07bf2b38-a9ac-4ea9-9c3f-86dd83689148",
   "metadata": {},
   "source": [
    "<h1>Number of dimension finding</h1>"
   ]
  },
  {
   "cell_type": "code",
   "execution_count": 32,
   "id": "60b52e0b-6cdd-4621-a8f3-57e5c0387191",
   "metadata": {},
   "outputs": [
    {
     "name": "stdout",
     "output_type": "stream",
     "text": [
      "Number of dimension In  array 2\n"
     ]
    }
   ],
   "source": [
    "import numpy as np\n",
    "arr=np.random.randint(1,50,12)\n",
    "arr.reshape  # this reshape keyword will reshape it \n",
    "arr=arr.reshape(3,4)  #it will tell how many row and column will bhi there\n",
    "print('Number of dimension In  array',arr.ndim)"
   ]
  },
  {
   "cell_type": "markdown",
   "id": "562fe853-700f-4ba9-9eae-4c90a35448b6",
   "metadata": {},
   "source": [
    "<h1>Changing rows and column</h1>"
   ]
  },
  {
   "cell_type": "code",
   "execution_count": 43,
   "id": "e9e2e1a1-2d5b-40fd-b641-984f6a9ce2d0",
   "metadata": {},
   "outputs": [
    {
     "name": "stdout",
     "output_type": "stream",
     "text": [
      "Array = [[32  8 15 17]\n",
      " [ 9 28 29  4]\n",
      " [20 12 36 36]]\n",
      "Number of dimension In  array 2\n"
     ]
    }
   ],
   "source": [
    "import numpy as np\n",
    "arr=np.random.randint(1,50,12)\n",
    "arr.reshape  # this reshape keyword will reshape it \n",
    "arr=arr.reshape(-1,4)  #it will tell how many row and column will bhi there\n",
    "print('Array =',arr)\n",
    "print('Number of dimension In  array',arr.ndim)"
   ]
  },
  {
   "cell_type": "code",
   "execution_count": null,
   "id": "35fdac7f-4a27-4dab-9d2c-b969137d62cc",
   "metadata": {},
   "outputs": [],
   "source": []
  },
  {
   "cell_type": "code",
   "execution_count": null,
   "id": "b0772c7c-3a23-41a5-8176-4b32d7fa7d50",
   "metadata": {},
   "outputs": [],
   "source": []
  },
  {
   "cell_type": "code",
   "execution_count": null,
   "id": "9f744415-d426-4790-8b37-d5f4c268bdad",
   "metadata": {},
   "outputs": [],
   "source": []
  },
  {
   "cell_type": "code",
   "execution_count": null,
   "id": "95f79c88-a1f7-4864-83dd-4be2384cf9b8",
   "metadata": {},
   "outputs": [],
   "source": []
  }
 ],
 "metadata": {
  "kernelspec": {
   "display_name": "Python 3 (ipykernel)",
   "language": "python",
   "name": "python3"
  },
  "language_info": {
   "codemirror_mode": {
    "name": "ipython",
    "version": 3
   },
   "file_extension": ".py",
   "mimetype": "text/x-python",
   "name": "python",
   "nbconvert_exporter": "python",
   "pygments_lexer": "ipython3",
   "version": "3.12.7"
  }
 },
 "nbformat": 4,
 "nbformat_minor": 5
}
