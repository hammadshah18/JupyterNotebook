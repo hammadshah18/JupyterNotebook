{
 "cells": [
  {
   "cell_type": "markdown",
   "id": "25520741-8e29-4d79-acdb-2742c66165aa",
   "metadata": {},
   "source": [
    "<h1>Addition of Array<h1/>"
   ]
  },
  {
   "cell_type": "code",
   "execution_count": 4,
   "id": "27b9e1ee-1a65-4c8b-bb6e-a98a3fcca81f",
   "metadata": {},
   "outputs": [
    {
     "name": "stdin",
     "output_type": "stream",
     "text": [
      "Enter your Size 5\n",
      "Enter your value 1\n",
      "Enter your value 2\n",
      "Enter your value 3\n",
      "Enter your value 4\n",
      "Enter your value 5\n"
     ]
    },
    {
     "name": "stdout",
     "output_type": "stream",
     "text": [
      "[3 4 5 6 7]\n"
     ]
    }
   ],
   "source": [
    "import numpy as np\n",
    "a=[]\n",
    "size=int(input('Enter your Size'))\n",
    "for i in range(size):\n",
    "    val=int(input('Enter your value'))\n",
    "    a.append(val)\n",
    "\n",
    "arr=np.array(a)\n",
    "print(arr+2)"
   ]
  },
  {
   "cell_type": "markdown",
   "id": "3dd4c95f-87b7-4afa-81cf-083dc8733667",
   "metadata": {},
   "source": [
    "<h1>Multiplication</h1>"
   ]
  },
  {
   "cell_type": "code",
   "execution_count": 7,
   "id": "0778931e-4d94-4f44-9f65-859ee380ce3d",
   "metadata": {},
   "outputs": [
    {
     "name": "stdin",
     "output_type": "stream",
     "text": [
      "Enter your Size 5\n",
      "Enter your value 2\n",
      "Enter your value 1\n",
      "Enter your value 4\n",
      "Enter your value 3\n",
      "Enter your value 7\n"
     ]
    },
    {
     "name": "stdout",
     "output_type": "stream",
     "text": [
      "[ 4  2  8  6 14]\n"
     ]
    }
   ],
   "source": [
    "import numpy as np\n",
    "a=[]\n",
    "size=int(input('Enter your Size'))\n",
    "for i in range(size):\n",
    "    val=int(input('Enter your value'))\n",
    "    a.append(val)\n",
    "\n",
    "arr=np.array(a)\n",
    "print(arr*2)"
   ]
  },
  {
   "cell_type": "markdown",
   "id": "5927d20f-caf5-4021-acc1-f345ead2939a",
   "metadata": {},
   "source": [
    "<h1>Power</h1>"
   ]
  },
  {
   "cell_type": "code",
   "execution_count": 10,
   "id": "31db379b-b1bc-4b04-b053-cbcf7282854b",
   "metadata": {},
   "outputs": [
    {
     "name": "stdin",
     "output_type": "stream",
     "text": [
      "Enter your Size 5\n",
      "Enter your value 1\n",
      "Enter your value 2\n",
      "Enter your value 3\n",
      "Enter your value 4\n",
      "Enter your value 5\n"
     ]
    },
    {
     "name": "stdout",
     "output_type": "stream",
     "text": [
      "[ 1  4  9 16 25]\n"
     ]
    }
   ],
   "source": [
    "import numpy as np\n",
    "a=[]\n",
    "size=int(input('Enter your Size'))\n",
    "for i in range(size):\n",
    "    val=int(input('Enter your value'))\n",
    "    a.append(val)\n",
    "\n",
    "arr=np.array(a)\n",
    "print(arr**2)"
   ]
  },
  {
   "cell_type": "markdown",
   "id": "6ffd00fd-4010-4927-9054-60392d7ad742",
   "metadata": {},
   "source": [
    "<h1>Squareroot</h1>"
   ]
  },
  {
   "cell_type": "code",
   "execution_count": 24,
   "id": "1245b996-0384-4f72-b5a2-5c3af3aee2a6",
   "metadata": {},
   "outputs": [
    {
     "name": "stdin",
     "output_type": "stream",
     "text": [
      "Enter your Size 3\n",
      "Enter your value 1\n",
      "Enter your value 4\n",
      "Enter your value 16\n"
     ]
    },
    {
     "name": "stdout",
     "output_type": "stream",
     "text": [
      "[1. 2. 4.]\n"
     ]
    }
   ],
   "source": [
    "import numpy as np\n",
    "a=[]\n",
    "size=int(input('Enter your Size'))\n",
    "for i in range(size):\n",
    "    val=int(input('Enter your value'))\n",
    "    a.append(val)\n",
    "\n",
    "arr=np.array(a)\n",
    "print(arr**0.5)"
   ]
  },
  {
   "cell_type": "markdown",
   "id": "edb58c6f-919e-4796-9a52-aa9328805e5a",
   "metadata": {},
   "source": [
    "<h1>Sum of Array</h1>"
   ]
  },
  {
   "cell_type": "code",
   "execution_count": null,
   "id": "444e05f9-a5bf-4491-a8b8-37cf25439826",
   "metadata": {},
   "outputs": [],
   "source": [
    "import numpy as np\n",
    "a=[]\n",
    "size=int(input('Enter your Size of First Array :'))\n",
    "for i in range(size):\n",
    "    val=int(input('Enter your value in 1st Array'))\n",
    "    a.append(val)\n",
    "\n",
    "arr=np.array(a)\n",
    "\n",
    "b=[]\n",
    "size=int(input('Enter your Size of Second Array :'))\n",
    "for i in range(size):\n",
    "    value=int(input('Enter your value in 2nd Array '))\n",
    "    b.append(value)\n",
    "\n",
    "arr1=np.array(b)\n",
    "\n",
    "\n",
    "print('sum of Array',arr+arr1)"
   ]
  },
  {
   "cell_type": "markdown",
   "id": "29f26496-e720-497d-b8d1-fac29ad73227",
   "metadata": {},
   "source": [
    "<h1>Operation on 2D Arrays</h1>"
   ]
  },
  {
   "cell_type": "code",
   "execution_count": 35,
   "id": "ff25211c-fb3e-40ee-8503-0793005df837",
   "metadata": {},
   "outputs": [
    {
     "name": "stdout",
     "output_type": "stream",
     "text": [
      "[[2 4]\n",
      " [6 8]]\n"
     ]
    }
   ],
   "source": [
    "import numpy as np\n",
    "a=np.array([1,2,3,4]).reshape(2,2)\n",
    "b=np.array([1,2,3,4]).reshape(2,2)\n",
    "print(a+b)"
   ]
  },
  {
   "cell_type": "markdown",
   "id": "d89f82d5-f477-40b7-89bc-2664f9e4d47d",
   "metadata": {},
   "source": [
    "<h1>Addition of Two Matrix</h1>"
   ]
  },
  {
   "cell_type": "code",
   "execution_count": 37,
   "id": "3986bf7d-728b-4790-b933-45343dc0ed6d",
   "metadata": {},
   "outputs": [
    {
     "name": "stdin",
     "output_type": "stream",
     "text": [
      "Enter the Number of Rows for the first matrix:  2\n",
      "Enter the Number of Columns for the first matrix:  2\n",
      "Enter the Element in Matrix:  1\n",
      "Enter the Element in Matrix:  2\n",
      "Enter the Element in Matrix:  3\n",
      "Enter the Element in Matrix:  4\n"
     ]
    },
    {
     "name": "stdout",
     "output_type": "stream",
     "text": [
      "First Matrix:\n",
      "1 2 \n",
      "3 4 \n"
     ]
    },
    {
     "name": "stdin",
     "output_type": "stream",
     "text": [
      "Enter the Number of Rows for the second matrix:  2\n",
      "Enter the Number of Columns for the second matrix:  2\n",
      "Enter the Element in Matrix:  1\n",
      "Enter the Element in Matrix:  2\n",
      "Enter the Element in Matrix:  3\n",
      "Enter the Element in Matrix:  4\n"
     ]
    },
    {
     "name": "stdout",
     "output_type": "stream",
     "text": [
      "Second Matrix:\n",
      "1 2 \n",
      "3 4 \n",
      "Resultant Matrix after Addition:\n",
      "2 4 \n",
      "6 8 \n"
     ]
    }
   ],
   "source": [
    "import numpy as np\n",
    "\n",
    "# Input first matrix\n",
    "matrix = []\n",
    "rows = int(input('Enter the Number of Rows for the first matrix: '))\n",
    "col = int(input('Enter the Number of Columns for the first matrix: '))\n",
    "\n",
    "for i in range(rows):\n",
    "    a = []\n",
    "    for j in range(col):\n",
    "        val = int(input('Enter the Element in Matrix: '))\n",
    "        a.append(val)\n",
    "    matrix.append(a)\n",
    "\n",
    "arr = np.array(matrix)\n",
    "print(\"First Matrix:\")\n",
    "for i in range(rows):\n",
    "    for j in range(col):\n",
    "        print(arr[i][j], end=' ')\n",
    "    print()\n",
    "\n",
    "# Input second matrix\n",
    "matrix1 = []\n",
    "rows1 = int(input('Enter the Number of Rows for the second matrix: '))\n",
    "col1 = int(input('Enter the Number of Columns for the second matrix: '))\n",
    "\n",
    "for k in range(rows1):\n",
    "    a1 = []\n",
    "    for l in range(col1):\n",
    "        val1 = int(input('Enter the Element in Matrix: '))\n",
    "        a1.append(val1)\n",
    "    matrix1.append(a1)\n",
    "\n",
    "arr1 = np.array(matrix1)\n",
    "print(\"Second Matrix:\")\n",
    "for k in range(rows1):\n",
    "    for l in range(col1):\n",
    "        print(arr1[k][l], end=' ')\n",
    "    print()\n",
    "\n",
    "# Add the two matrices\n",
    "if rows == rows1 and col == col1:\n",
    "    result = arr + arr1\n",
    "    print(\"Resultant Matrix after Addition:\")\n",
    "    for i in range(rows):\n",
    "        for j in range(col):\n",
    "            print(result[i][j], end=' ')\n",
    "        print()\n",
    "else:\n",
    "    print(\"Matrix addition is not possible. The dimensions do not match.\")\n"
   ]
  },
  {
   "cell_type": "markdown",
   "id": "11f78c9a-92e8-496e-9f90-ede3ebf51a93",
   "metadata": {},
   "source": [
    "<h1>Multiplication of two matrix</h1>"
   ]
  },
  {
   "cell_type": "code",
   "execution_count": 43,
   "id": "5ec6f443-e171-4bcd-a365-092825af0605",
   "metadata": {},
   "outputs": [
    {
     "name": "stdin",
     "output_type": "stream",
     "text": [
      "Enter the Number of Rows for the first matrix:  3\n",
      "Enter the Number of Columns for the first matrix:  3\n",
      "Enter the Element in Matrix:  1\n",
      "Enter the Element in Matrix:  2\n",
      "Enter the Element in Matrix:  3\n",
      "Enter the Element in Matrix:  4\n",
      "Enter the Element in Matrix:  5\n",
      "Enter the Element in Matrix:  6\n",
      "Enter the Element in Matrix:  7\n",
      "Enter the Element in Matrix:  8\n",
      "Enter the Element in Matrix:  9\n"
     ]
    },
    {
     "name": "stdout",
     "output_type": "stream",
     "text": [
      "First Matrix:\n",
      "1 2 3 \n",
      "4 5 6 \n",
      "7 8 9 \n"
     ]
    },
    {
     "name": "stdin",
     "output_type": "stream",
     "text": [
      "Enter the Number of Rows for the second matrix:  3\n",
      "Enter the Number of Columns for the second matrix:  3\n",
      "Enter the Element in Matrix:  1\n",
      "Enter the Element in Matrix:  2\n",
      "Enter the Element in Matrix:  3\n",
      "Enter the Element in Matrix:  4\n",
      "Enter the Element in Matrix:  5\n",
      "Enter the Element in Matrix:  6\n",
      "Enter the Element in Matrix:  7\n",
      "Enter the Element in Matrix:  8\n",
      "Enter the Element in Matrix:  9\n"
     ]
    },
    {
     "name": "stdout",
     "output_type": "stream",
     "text": [
      "Second Matrix:\n",
      "1 2 3 \n",
      "4 5 6 \n",
      "7 8 9 \n",
      "Resultant Matrix after Multipliaction:\n",
      "1 4 9 \n",
      "16 25 36 \n",
      "49 64 81 \n"
     ]
    }
   ],
   "source": [
    "import numpy as np\n",
    "\n",
    "# Input first matrix\n",
    "matrix = []\n",
    "rows = int(input('Enter the Number of Rows for the first matrix: '))\n",
    "col = int(input('Enter the Number of Columns for the first matrix: '))\n",
    "\n",
    "for i in range(rows):\n",
    "    a = []\n",
    "    for j in range(col):\n",
    "        val = int(input('Enter the Element in Matrix: '))\n",
    "        a.append(val)\n",
    "    matrix.append(a)\n",
    "\n",
    "arr = np.array(matrix)\n",
    "print(\"First Matrix:\")\n",
    "for i in range(rows):\n",
    "    for j in range(col):\n",
    "        print(arr[i][j], end=' ')\n",
    "    print()\n",
    "\n",
    "# Input second matrix\n",
    "matrix1 = []\n",
    "rows1 = int(input('Enter the Number of Rows for the second matrix: '))\n",
    "col1 = int(input('Enter the Number of Columns for the second matrix: '))\n",
    "\n",
    "for k in range(rows1):\n",
    "    a1 = []\n",
    "    for l in range(col1):\n",
    "        val1 = int(input('Enter the Element in Matrix: '))\n",
    "        a1.append(val1)\n",
    "    matrix1.append(a1)\n",
    "\n",
    "arr1 = np.array(matrix1)\n",
    "print(\"Second Matrix:\")\n",
    "for k in range(rows1):\n",
    "    for l in range(col1):\n",
    "        print(arr1[k][l], end=' ')\n",
    "    print()\n",
    "\n",
    "# Multiplication of the two matrices\n",
    "if col == rows1 :\n",
    "    result = arr * arr1\n",
    "    print(\"Resultant Matrix after Multipliaction:\")\n",
    "    for i in range(rows):\n",
    "        for j in range(col):\n",
    "            print(result[i][j], end=' ')\n",
    "        print()\n",
    "else:\n",
    "    print(\"Matrix Multipliaction is not possible. The dimensions do not match.\")"
   ]
  },
  {
   "cell_type": "markdown",
   "id": "ba4a7354-b4e6-421c-9d69-c7a48b5fdd48",
   "metadata": {},
   "source": [
    "<h1>Division of Matrix</h1>"
   ]
  },
  {
   "cell_type": "code",
   "execution_count": 48,
   "id": "53abb0b0-7d38-45e1-84bc-a3a641801adc",
   "metadata": {},
   "outputs": [
    {
     "name": "stdin",
     "output_type": "stream",
     "text": [
      "Enter the Number of Rows for the first matrix:  2\n",
      "Enter the Number of Columns for the first matrix:  2\n",
      "Enter the Element in Matrix:  1\n",
      "Enter the Element in Matrix:  2\n",
      "Enter the Element in Matrix:  3\n",
      "Enter the Element in Matrix:  4\n"
     ]
    },
    {
     "name": "stdout",
     "output_type": "stream",
     "text": [
      "First Matrix:\n",
      "1 2 \n",
      "3 4 \n"
     ]
    },
    {
     "name": "stdin",
     "output_type": "stream",
     "text": [
      "Enter the Number of Rows for the second matrix:  2\n",
      "Enter the Number of Columns for the second matrix:  2\n",
      "Enter the Element in Matrix:  1\n",
      "Enter the Element in Matrix:  2\n",
      "Enter the Element in Matrix:  3\n",
      "Enter the Element in Matrix:  4\n"
     ]
    },
    {
     "name": "stdout",
     "output_type": "stream",
     "text": [
      "Second Matrix:\n",
      "1 2 \n",
      "3 4 \n",
      "Resultant Matrix after Division:\n",
      "1.0 1.0 \n",
      "1.0 1.0 \n"
     ]
    }
   ],
   "source": [
    "import numpy as np\n",
    "\n",
    "# Input first matrix\n",
    "matrix = []\n",
    "rows = int(input('Enter the Number of Rows for the first matrix: '))\n",
    "col = int(input('Enter the Number of Columns for the first matrix: '))\n",
    "\n",
    "for i in range(rows):\n",
    "    a = []\n",
    "    for j in range(col):\n",
    "        val = int(input('Enter the Element in Matrix: '))\n",
    "        a.append(val)\n",
    "    matrix.append(a)\n",
    "\n",
    "arr = np.array(matrix)\n",
    "print(\"First Matrix:\")\n",
    "for i in range(rows):\n",
    "    for j in range(col):\n",
    "        print(arr[i][j], end=' ')\n",
    "    print()\n",
    "\n",
    "# Input second matrix\n",
    "matrix1 = []\n",
    "rows1 = int(input('Enter the Number of Rows for the second matrix: '))\n",
    "col1 = int(input('Enter the Number of Columns for the second matrix: '))\n",
    "\n",
    "for k in range(rows1):\n",
    "    a1 = []\n",
    "    for l in range(col1):\n",
    "        val1 = int(input('Enter the Element in Matrix: '))\n",
    "        a1.append(val1)\n",
    "    matrix1.append(a1)\n",
    "\n",
    "arr1 = np.array(matrix1)\n",
    "print(\"Second Matrix:\")\n",
    "for k in range(rows1):\n",
    "    for l in range(col1):\n",
    "        print(arr1[k][l], end=' ')\n",
    "    print()\n",
    "\n",
    "# divide the two matrices\n",
    "if rows == rows1 and col == col1:\n",
    "    result = arr / arr1\n",
    "    print(\"Resultant Matrix after Division:\")\n",
    "    for i in range(rows):\n",
    "        for j in range(col):\n",
    "            print(result[i][j], end=' ')\n",
    "        print()\n",
    "else:\n",
    "    print(\"Matrix Divison is not possible. The dimensions do not match.\")\n"
   ]
  },
  {
   "cell_type": "code",
   "execution_count": null,
   "id": "5618715a-e57c-4f5a-8fd8-fb4ad8a2d288",
   "metadata": {},
   "outputs": [],
   "source": []
  },
  {
   "cell_type": "code",
   "execution_count": null,
   "id": "bc3ef907-3620-4dd9-ac22-0c43dac00b73",
   "metadata": {},
   "outputs": [],
   "source": []
  },
  {
   "cell_type": "code",
   "execution_count": null,
   "id": "f95465d1-887c-41ce-9f59-443a8dab9cc9",
   "metadata": {},
   "outputs": [],
   "source": []
  },
  {
   "cell_type": "code",
   "execution_count": null,
   "id": "067216ba-154f-4f22-bfec-7ebcc21b9465",
   "metadata": {},
   "outputs": [],
   "source": []
  }
 ],
 "metadata": {
  "kernelspec": {
   "display_name": "Python 3 (ipykernel)",
   "language": "python",
   "name": "python3"
  },
  "language_info": {
   "codemirror_mode": {
    "name": "ipython",
    "version": 3
   },
   "file_extension": ".py",
   "mimetype": "text/x-python",
   "name": "python",
   "nbconvert_exporter": "python",
   "pygments_lexer": "ipython3",
   "version": "3.12.7"
  }
 },
 "nbformat": 4,
 "nbformat_minor": 5
}
