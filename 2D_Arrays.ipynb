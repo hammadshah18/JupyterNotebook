{
 "cells": [
  {
   "cell_type": "code",
   "execution_count": 17,
   "id": "02ffb93e-5cf8-45ec-b4b0-74b3ef24d026",
   "metadata": {},
   "outputs": [
    {
     "name": "stdout",
     "output_type": "stream",
     "text": [
      "dimension of array = 2\n",
      "shape of array (3, 3)\n"
     ]
    }
   ],
   "source": [
    "import numpy as np\n",
    "a=([1,2,3],[6,7,8],[5,6,2])\n",
    "myarr=np.array(a)\n",
    "myarr\n",
    "print('dimension of array =',myarr.ndim)\n",
    "print('shape of array',myarr.shape)"
   ]
  },
  {
   "cell_type": "code",
   "execution_count": null,
   "id": "a2e43c4f-4b06-4bda-899e-f28e17045f52",
   "metadata": {},
   "outputs": [],
   "source": []
  }
 ],
 "metadata": {
  "kernelspec": {
   "display_name": "Python 3 (ipykernel)",
   "language": "python",
   "name": "python3"
  },
  "language_info": {
   "codemirror_mode": {
    "name": "ipython",
    "version": 3
   },
   "file_extension": ".py",
   "mimetype": "text/x-python",
   "name": "python",
   "nbconvert_exporter": "python",
   "pygments_lexer": "ipython3",
   "version": "3.12.7"
  }
 },
 "nbformat": 4,
 "nbformat_minor": 5
}
