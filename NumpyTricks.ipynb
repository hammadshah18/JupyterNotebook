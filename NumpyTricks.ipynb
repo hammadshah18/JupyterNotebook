{
 "cells": [
  {
   "cell_type": "markdown",
   "id": "c1c3f05e-ecbd-491b-8256-bcb2677c5507",
   "metadata": {},
   "source": [
    "<h1>Numpy Tricks</h1>"
   ]
  },
  {
   "cell_type": "markdown",
   "id": "2f23f06e-7b58-4abe-b8c0-050263fe9843",
   "metadata": {},
   "source": [
    "<h1>Sorting</h1>"
   ]
  },
  {
   "cell_type": "code",
   "execution_count": 7,
   "id": "83c2bcec-ede9-4c64-9928-76725bcc2760",
   "metadata": {},
   "outputs": [
    {
     "name": "stdout",
     "output_type": "stream",
     "text": [
      "[99 89 23 65 22 69  5 83 50 85]\n"
     ]
    }
   ],
   "source": [
    "#sorting\n",
    "import numpy as np\n",
    "a=np.random.randint(1,100,10)\n",
    "print(a)"
   ]
  },
  {
   "cell_type": "code",
   "execution_count": 9,
   "id": "fd1248b4-51af-4f7a-848a-721fc8622d1c",
   "metadata": {},
   "outputs": [
    {
     "data": {
      "text/plain": [
       "array([ 5, 22, 23, 50, 65, 69, 83, 85, 89, 99])"
      ]
     },
     "execution_count": 9,
     "metadata": {},
     "output_type": "execute_result"
    }
   ],
   "source": [
    "np.sort(a)"
   ]
  },
  {
   "cell_type": "code",
   "execution_count": 19,
   "id": "300e9bd4-c66d-425a-9279-3e7af1bc499c",
   "metadata": {},
   "outputs": [
    {
     "name": "stdout",
     "output_type": "stream",
     "text": [
      "[[68 17 60  8 27]\n",
      " [47 25 73 17 78]]\n"
     ]
    }
   ],
   "source": [
    "#sorting\n",
    "import numpy as np\n",
    "a1=np.random.randint(1,100,10).reshape(2,5)\n",
    "print(a1)"
   ]
  },
  {
   "cell_type": "code",
   "execution_count": 27,
   "id": "5133840a-6a36-491f-896a-8029926bd07f",
   "metadata": {},
   "outputs": [
    {
     "data": {
      "text/plain": [
       "array([[47, 17, 60,  8, 27],\n",
       "       [68, 25, 73, 17, 78]])"
      ]
     },
     "execution_count": 27,
     "metadata": {},
     "output_type": "execute_result"
    }
   ],
   "source": [
    "np.sort(a1,axis=0)\n"
   ]
  },
  {
   "cell_type": "code",
   "execution_count": 25,
   "id": "5c5dfa88-c569-432c-be1b-4294cf461c02",
   "metadata": {},
   "outputs": [
    {
     "data": {
      "text/plain": [
       "array([[ 8, 17, 27, 60, 68],\n",
       "       [17, 25, 47, 73, 78]])"
      ]
     },
     "execution_count": 25,
     "metadata": {},
     "output_type": "execute_result"
    }
   ],
   "source": [
    "np.sort(a1,axis=1)"
   ]
  },
  {
   "cell_type": "markdown",
   "id": "8638758f-0f52-43ff-bac7-a6bf396b92ae",
   "metadata": {},
   "source": [
    "<h1>Append</h1>"
   ]
  },
  {
   "cell_type": "code",
   "execution_count": 31,
   "id": "1e41bfe5-a228-426d-babf-bbc26f7c5898",
   "metadata": {},
   "outputs": [
    {
     "name": "stdout",
     "output_type": "stream",
     "text": [
      "[ 0  1  2  3  4  5  6  7  8  9 10 11]\n"
     ]
    }
   ],
   "source": [
    "import numpy as np\n",
    "b=np.arange(12)   #1D Array Example\n",
    "print(b)"
   ]
  },
  {
   "cell_type": "code",
   "execution_count": 35,
   "id": "b95824d6-11cb-4ec3-a974-5164dec57435",
   "metadata": {},
   "outputs": [
    {
     "data": {
      "text/plain": [
       "array([ 0,  1,  2,  3,  4,  5,  6,  7,  8,  9, 10, 11, 12])"
      ]
     },
     "execution_count": 35,
     "metadata": {},
     "output_type": "execute_result"
    }
   ],
   "source": [
    "np.append(b,12)"
   ]
  },
  {
   "cell_type": "code",
   "execution_count": 37,
   "id": "84fbae02-6aa7-4a34-a7d1-bb1e66309fa4",
   "metadata": {},
   "outputs": [
    {
     "name": "stdout",
     "output_type": "stream",
     "text": [
      "[[ 0  1  2  3]\n",
      " [ 4  5  6  7]\n",
      " [ 8  9 10 11]]\n"
     ]
    }
   ],
   "source": [
    "import numpy as np\n",
    "b1=np.arange(12).reshape(3,4)   #2D Array Example\n",
    "print(b1)"
   ]
  },
  {
   "cell_type": "code",
   "execution_count": 51,
   "id": "7c4ef0a5-5bc6-4d6a-b27e-fc57c004dc1f",
   "metadata": {},
   "outputs": [
    {
     "data": {
      "text/plain": [
       "array([[ 0.,  1.,  2.,  3.,  1.],\n",
       "       [ 4.,  5.,  6.,  7.,  1.],\n",
       "       [ 8.,  9., 10., 11.,  1.]])"
      ]
     },
     "execution_count": 51,
     "metadata": {},
     "output_type": "execute_result"
    }
   ],
   "source": [
    "np.append(b1,np.ones((b1.shape[0],1)),axis=1) # append in 2d arrays"
   ]
  },
  {
   "cell_type": "markdown",
   "id": "11635bf0-af1c-47c3-9070-d70885dff320",
   "metadata": {},
   "source": [
    "<h1>Concatenate</h1>"
   ]
  },
  {
   "cell_type": "code",
   "execution_count": 58,
   "id": "05255119-4991-4327-b64b-71016a161d83",
   "metadata": {},
   "outputs": [
    {
     "name": "stdout",
     "output_type": "stream",
     "text": [
      "[[36 57 60 80]\n",
      " [ 2 71  8 61]\n",
      " [80 21 84 26]]\n"
     ]
    }
   ],
   "source": [
    "import numpy as np\n",
    "c=np.random.randint(1,100,12).reshape(3,4)\n",
    "print(c)"
   ]
  },
  {
   "cell_type": "code",
   "execution_count": 62,
   "id": "58883f31-c797-4db6-9ea6-769ccdbfb43f",
   "metadata": {},
   "outputs": [],
   "source": [
    "import numpy as np\n",
    "d=np.random.randint(1,100,12).reshape(3,4)"
   ]
  },
  {
   "cell_type": "code",
   "execution_count": 66,
   "id": "0513de81-7e1c-432e-9dce-356469f8f377",
   "metadata": {},
   "outputs": [
    {
     "data": {
      "text/plain": [
       "array([[36, 57, 60, 80, 30, 36, 75, 61],\n",
       "       [ 2, 71,  8, 61, 32, 58, 95, 43],\n",
       "       [80, 21, 84, 26, 88, 58, 76,  7]])"
      ]
     },
     "execution_count": 66,
     "metadata": {},
     "output_type": "execute_result"
    }
   ],
   "source": [
    "np.concatenate((c,d),axis=1)"
   ]
  },
  {
   "cell_type": "markdown",
   "id": "8f45197e-f14e-4146-a330-d2749dfc3f69",
   "metadata": {},
   "source": [
    "<h1>Unique</h1>"
   ]
  },
  {
   "cell_type": "code",
   "execution_count": 71,
   "id": "37ad707e-c1cf-4534-ac3c-fae9771264e8",
   "metadata": {},
   "outputs": [
    {
     "name": "stdout",
     "output_type": "stream",
     "text": [
      "[ 1  1  1  1  1  2  2  2  2  3  3 33  3  3  4  4  4  5  4  5  6  7 87  6\n",
      "  7  7  9  9]\n"
     ]
    }
   ],
   "source": [
    "import numpy as np\n",
    "u=np.array([1,1,1,1,1,2,2,2,2,3,3,33,3,3,4,4,4,5,4,5,6,7,87,6,7,7,9,9])\n",
    "print(u)"
   ]
  },
  {
   "cell_type": "code",
   "execution_count": 73,
   "id": "fe3cc4f6-6386-4aae-afac-64a1d07089a0",
   "metadata": {},
   "outputs": [
    {
     "data": {
      "text/plain": [
       "array([ 1,  2,  3,  4,  5,  6,  7,  9, 33, 87])"
      ]
     },
     "execution_count": 73,
     "metadata": {},
     "output_type": "execute_result"
    }
   ],
   "source": [
    "np.unique(u)"
   ]
  },
  {
   "cell_type": "markdown",
   "id": "7be78e39-2924-4ac3-8589-236b59c7ef5f",
   "metadata": {},
   "source": [
    "<h1>converter row matrix and col matrix</h1>"
   ]
  },
  {
   "cell_type": "code",
   "execution_count": 78,
   "id": "dee812a8-ca8e-4cfb-a914-454a07bba149",
   "metadata": {},
   "outputs": [
    {
     "name": "stdout",
     "output_type": "stream",
     "text": [
      "[ 1  2  3  4 56]\n"
     ]
    }
   ],
   "source": [
    "import numpy as np\n",
    "r=np.array([1,2,3,4,56])\n",
    "print(r)"
   ]
  },
  {
   "cell_type": "code",
   "execution_count": 94,
   "id": "25196069-5554-4a4b-9bf4-3fd0ee04f3d9",
   "metadata": {},
   "outputs": [
    {
     "name": "stdout",
     "output_type": "stream",
     "text": [
      "(5, 1)\n"
     ]
    }
   ],
   "source": [
    "ha=np.expand_dims(r,axis=1).shape\n",
    "print(ha)"
   ]
  },
  {
   "cell_type": "code",
   "execution_count": 90,
   "id": "6da22cfb-9e5d-43e8-bc0c-472084478fc7",
   "metadata": {},
   "outputs": [
    {
     "data": {
      "text/plain": [
       "(1, 5)"
      ]
     },
     "execution_count": 90,
     "metadata": {},
     "output_type": "execute_result"
    }
   ],
   "source": [
    "np.expand_dims(r,axis=0).shape\n",
    "\n"
   ]
  },
  {
   "cell_type": "markdown",
   "id": "d291b3d1-249c-4bfb-b2c3-c97ed4250eb3",
   "metadata": {},
   "source": [
    "<h1>Where IT gives index on a specific condition</h1>"
   ]
  },
  {
   "cell_type": "code",
   "execution_count": 99,
   "id": "bae41cb8-f6ba-49ac-8184-08f9b4edb4a5",
   "metadata": {},
   "outputs": [
    {
     "name": "stdout",
     "output_type": "stream",
     "text": [
      "[87 74 67 42 73 45 59 67 27 15 91 51 14 35 68]\n"
     ]
    }
   ],
   "source": [
    "import numpy as np\n",
    "w=np.random.randint(1,100,15)\n",
    "print(w)\n"
   ]
  },
  {
   "cell_type": "code",
   "execution_count": 105,
   "id": "bab5cbd3-8fc5-4ce9-92fe-9b2eb182d8ee",
   "metadata": {},
   "outputs": [
    {
     "name": "stdout",
     "output_type": "stream",
     "text": [
      "(array([ 0,  1,  2,  4,  6,  7, 10, 11, 14], dtype=int64),)\n"
     ]
    }
   ],
   "source": [
    "n=np.where(w>50)\n",
    "print(n)"
   ]
  },
  {
   "cell_type": "code",
   "execution_count": 107,
   "id": "45816615-4911-4c55-9d08-6cdf94140d1e",
   "metadata": {},
   "outputs": [
    {
     "data": {
      "text/plain": [
       "array([ 0,  0,  0, 42,  0, 45,  0,  0, 27, 15,  0,  0, 14, 35,  0])"
      ]
     },
     "execution_count": 107,
     "metadata": {},
     "output_type": "execute_result"
    }
   ],
   "source": [
    "np.where(w>50,0,w)"
   ]
  },
  {
   "cell_type": "code",
   "execution_count": 109,
   "id": "cc53b69c-af23-4fa2-8c1c-cd6dfc72b337",
   "metadata": {},
   "outputs": [
    {
     "data": {
      "text/plain": [
       "array([0, 0, 0, 0, 0, 0, 0, 0, 0, 0, 0, 0, 0, 0, 0])"
      ]
     },
     "execution_count": 109,
     "metadata": {},
     "output_type": "execute_result"
    }
   ],
   "source": [
    "np.where(w %1 ==0 ,0,w)"
   ]
  },
  {
   "cell_type": "markdown",
   "id": "f66c1869-5127-4711-bc4f-67f66548b218",
   "metadata": {},
   "source": [
    "<h1>Find biggest NUmber index ,  argmax</h1>"
   ]
  },
  {
   "cell_type": "code",
   "execution_count": 112,
   "id": "2829ac77-3d5e-471c-b6e6-ac5b53dd2bb7",
   "metadata": {},
   "outputs": [
    {
     "data": {
      "text/plain": [
       "10"
      ]
     },
     "execution_count": 112,
     "metadata": {},
     "output_type": "execute_result"
    }
   ],
   "source": [
    "np.argmax(w)"
   ]
  },
  {
   "cell_type": "code",
   "execution_count": 114,
   "id": "3ac15da0-a030-4ba5-8402-be71ca52a84c",
   "metadata": {},
   "outputs": [
    {
     "name": "stdout",
     "output_type": "stream",
     "text": [
      "[[ 0  1  2  3]\n",
      " [ 4  5  6  7]\n",
      " [ 8  9 10 11]]\n"
     ]
    }
   ],
   "source": [
    "import numpy as np\n",
    "b1=np.arange(12).reshape(3,4)   #2D Array Example\n",
    "print(b1)"
   ]
  },
  {
   "cell_type": "code",
   "execution_count": 116,
   "id": "2898fa37-a06f-4b92-a597-dc18f4b30a17",
   "metadata": {},
   "outputs": [
    {
     "data": {
      "text/plain": [
       "array([3, 3, 3], dtype=int64)"
      ]
     },
     "execution_count": 116,
     "metadata": {},
     "output_type": "execute_result"
    }
   ],
   "source": [
    "np.argmax(b1,axis=1)"
   ]
  },
  {
   "cell_type": "code",
   "execution_count": 118,
   "id": "e650d68a-0a42-439b-88f1-739ce23ac0fc",
   "metadata": {},
   "outputs": [
    {
     "data": {
      "text/plain": [
       "array([2, 2, 2, 2], dtype=int64)"
      ]
     },
     "execution_count": 118,
     "metadata": {},
     "output_type": "execute_result"
    }
   ],
   "source": [
    "np.argmax(b1,axis=0)"
   ]
  },
  {
   "cell_type": "markdown",
   "id": "17616772-99c9-4baa-85d9-3538c7384378",
   "metadata": {},
   "source": [
    "<h1>Vice versa for minimumarg</h1>"
   ]
  },
  {
   "cell_type": "code",
   "execution_count": 129,
   "id": "cb11fb22-b3ea-4611-b7f8-e352d5ba2daf",
   "metadata": {},
   "outputs": [
    {
     "name": "stdout",
     "output_type": "stream",
     "text": [
      "[ 0  1  2  3  4  5  6  7  8  9 10 11]\n"
     ]
    }
   ],
   "source": [
    "import numpy as np\n",
    "b=np.arange(12)   #1D Array Example\n",
    "print(b)"
   ]
  },
  {
   "cell_type": "code",
   "execution_count": 121,
   "id": "dd4d7bf6-1945-44db-a66e-31a6584ec1f7",
   "metadata": {},
   "outputs": [
    {
     "data": {
      "text/plain": [
       "array([ 0,  1,  3,  6, 10, 15, 21, 28, 36, 45, 55, 66])"
      ]
     },
     "execution_count": 121,
     "metadata": {},
     "output_type": "execute_result"
    }
   ],
   "source": [
    "np.cumsum(b)\n"
   ]
  },
  {
   "cell_type": "code",
   "execution_count": null,
   "id": "5c0e6588-1394-45c9-9a7c-d3b7ca6cbd7f",
   "metadata": {},
   "outputs": [],
   "source": [
    "import numpy as np\n",
    "b=np.arange(12).reshape(3,4)   #1D Array Example\n",
    "print(b)"
   ]
  },
  {
   "cell_type": "code",
   "execution_count": 125,
   "id": "0e5e2cfc-8eb5-4f42-9738-b5322f68adf5",
   "metadata": {},
   "outputs": [
    {
     "data": {
      "text/plain": [
       "array([[ 0,  1,  3,  6],\n",
       "       [ 4,  9, 15, 22],\n",
       "       [ 8, 17, 27, 38]])"
      ]
     },
     "execution_count": 125,
     "metadata": {},
     "output_type": "execute_result"
    }
   ],
   "source": [
    "np.cumsum(b,axis=1)"
   ]
  },
  {
   "cell_type": "markdown",
   "id": "536f930b-50a8-431c-b594-22dc076c079f",
   "metadata": {},
   "source": [
    "<h1>Same as cumprod</h1>"
   ]
  },
  {
   "cell_type": "markdown",
   "id": "8e25f0b9-c739-4999-ab97-0ddecf31bc1c",
   "metadata": {},
   "source": [
    "<h1>Percentile</h1>"
   ]
  },
  {
   "cell_type": "code",
   "execution_count": 163,
   "id": "4f78e9fb-306e-4266-aba3-1f7883b273bc",
   "metadata": {},
   "outputs": [
    {
     "name": "stdout",
     "output_type": "stream",
     "text": [
      "[ 1  2  3  4  5  6  7  8  9 10 11 12]\n"
     ]
    }
   ],
   "source": [
    "import numpy as np\n",
    "b=np.array([1,2,3,4,5,6,7,8,9,10,11,12])   #1D Array Example\n",
    "print(b)"
   ]
  },
  {
   "cell_type": "code",
   "execution_count": 169,
   "id": "9f2e2307-9fc2-4f01-832e-a91a3abee669",
   "metadata": {},
   "outputs": [
    {
     "data": {
      "text/plain": [
       "2.32"
      ]
     },
     "execution_count": 169,
     "metadata": {},
     "output_type": "execute_result"
    }
   ],
   "source": [
    "np.percentile(b,12)"
   ]
  },
  {
   "cell_type": "markdown",
   "id": "d6ecc53f-899e-4996-bcda-b4e27e39c074",
   "metadata": {},
   "source": [
    "<h1>histogram</h1>"
   ]
  },
  {
   "cell_type": "code",
   "execution_count": 151,
   "id": "683e3f9a-013d-4189-afd5-30b87dcde45b",
   "metadata": {},
   "outputs": [
    {
     "name": "stdout",
     "output_type": "stream",
     "text": [
      "[  0   1   2   3   4   5   6   7   8   9  10  11  12  13  14  15  16  17\n",
      "  18  19  20  21  22  23  24  25  26  27  28  29  30  31  32  33  34  35\n",
      "  36  37  38  39  40  41  42  43  44  45  46  47  48  49  50  51  52  53\n",
      "  54  55  56  57  58  59  60  61  62  63  64  65  66  67  68  69  70  71\n",
      "  72  73  74  75  76  77  78  79  80  81  82  83  84  85  86  87  88  89\n",
      "  90  91  92  93  94  95  96  97  98  99 100]\n"
     ]
    }
   ],
   "source": [
    "import numpy as np\n",
    "b=np.arange(101)   #1D Array Example\n",
    "print(b)"
   ]
  },
  {
   "cell_type": "code",
   "execution_count": 153,
   "id": "c2e7d831-e406-4bff-a5ac-da3cdf2e0f77",
   "metadata": {},
   "outputs": [
    {
     "data": {
      "text/plain": [
       "(array([10, 10, 12, 13, 10, 35,  4,  7], dtype=int64),\n",
       " array([  0,  10,  20,  32,  45,  55,  90,  94, 100]))"
      ]
     },
     "execution_count": 153,
     "metadata": {},
     "output_type": "execute_result"
    }
   ],
   "source": [
    "np.histogram(b,bins=[0,10,20,32,45,55,90,94,100])"
   ]
  },
  {
   "cell_type": "markdown",
   "id": "b0ce3cd0-85fa-40d4-a949-d22c3233a983",
   "metadata": {},
   "source": [
    "<h1>correlation coficient\n",
    "</h1>"
   ]
  },
  {
   "cell_type": "code",
   "execution_count": 158,
   "id": "42d3f69e-c827-4ceb-999a-68995377e93b",
   "metadata": {},
   "outputs": [
    {
     "data": {
      "text/plain": [
       "array([[1., 1.],\n",
       "       [1., 1.]])"
      ]
     },
     "execution_count": 158,
     "metadata": {},
     "output_type": "execute_result"
    }
   ],
   "source": [
    "import numpy as np\n",
    "salary=np.array([200,300,400,500,600])\n",
    "experience=np.array([1,2,3,4,5])\n",
    "np.corrcoef(salary,experience)"
   ]
  },
  {
   "cell_type": "markdown",
   "id": "cbfaf66d-174a-4904-884b-66dfac6a84b6",
   "metadata": {},
   "source": [
    "<h1>isin   it will give same elemnt as output b/w two arrays</h1>"
   ]
  },
  {
   "cell_type": "code",
   "execution_count": 26,
   "id": "93254f4a-1dd9-4243-94c2-d4d2161fb269",
   "metadata": {},
   "outputs": [
    {
     "data": {
      "text/plain": [
       "array([1, 3])"
      ]
     },
     "execution_count": 26,
     "metadata": {},
     "output_type": "execute_result"
    }
   ],
   "source": [
    "import numpy as np\n",
    "si=np.array([1,2,3,4,5,6,7,8,9])\n",
    "i=np.array([1,10,12,13,3,19,43])\n",
    "si[np.isin(si,i)]"
   ]
  },
  {
   "cell_type": "markdown",
   "id": "2e4eadb9-eed6-49a9-9d0d-2f72edcf8247",
   "metadata": {},
   "source": [
    "<h1>Flip function it will give mirror image </h1>"
   ]
  },
  {
   "cell_type": "code",
   "execution_count": 9,
   "id": "d7641bc1-c40b-4422-be74-b8a74922bd83",
   "metadata": {},
   "outputs": [
    {
     "data": {
      "text/plain": [
       "array([9, 8, 7, 6, 5, 4, 3, 2, 1])"
      ]
     },
     "execution_count": 9,
     "metadata": {},
     "output_type": "execute_result"
    }
   ],
   "source": [
    "np.flip(si)"
   ]
  },
  {
   "cell_type": "code",
   "execution_count": 13,
   "id": "0a42b2de-0e7c-44da-b0c4-4a697b49d61d",
   "metadata": {},
   "outputs": [],
   "source": [
    "import numpy as np\n",
    "si1=np.array([1,2,3,4,5,6,7,8,9]).reshape(3,3)"
   ]
  },
  {
   "cell_type": "code",
   "execution_count": 15,
   "id": "acf30eff-483c-4a4f-bbe4-f668ae0b0c79",
   "metadata": {},
   "outputs": [
    {
     "data": {
      "text/plain": [
       "array([[9, 8, 7],\n",
       "       [6, 5, 4],\n",
       "       [3, 2, 1]])"
      ]
     },
     "execution_count": 15,
     "metadata": {},
     "output_type": "execute_result"
    }
   ],
   "source": [
    "np.flip(si1)"
   ]
  },
  {
   "cell_type": "markdown",
   "id": "75fbed6a-fa89-4b1a-8924-7a91ce4eff30",
   "metadata": {},
   "source": [
    "<h1>Put value on a given index </h1>"
   ]
  },
  {
   "cell_type": "code",
   "execution_count": 42,
   "id": "099815e4-c9d8-4b18-90e6-d872d0860691",
   "metadata": {},
   "outputs": [],
   "source": [
    "import numpy as np\n",
    "si=np.array([1,2,3,4,5,6,7,8,9])"
   ]
  },
  {
   "cell_type": "code",
   "execution_count": 46,
   "id": "c185cf9f-22b9-446c-9aa1-ad80e49a1ee9",
   "metadata": {},
   "outputs": [],
   "source": [
    " np.put(si,[1,3],[23,34])"
   ]
  },
  {
   "cell_type": "code",
   "execution_count": 48,
   "id": "e2a1d04a-19ce-48f6-8cb5-60a5bcc687f9",
   "metadata": {},
   "outputs": [
    {
     "data": {
      "text/plain": [
       "array([23,  3, 34,  5,  6,  7,  8,  9])"
      ]
     },
     "execution_count": 48,
     "metadata": {},
     "output_type": "execute_result"
    }
   ],
   "source": [
    "np.delete(si,0)"
   ]
  },
  {
   "cell_type": "markdown",
   "id": "cd1c700e-aa96-4117-9954-6cde806576cb",
   "metadata": {},
   "source": [
    "<h1>Set function</h1>"
   ]
  },
  {
   "cell_type": "code",
   "execution_count": 53,
   "id": "3d4bdccb-5e01-4733-b9ca-f949383375f9",
   "metadata": {},
   "outputs": [],
   "source": [
    "import numpy as np\n",
    "jk=np.array([1,2,5,3,0,34,6,7,87,10])"
   ]
  },
  {
   "cell_type": "code",
   "execution_count": 55,
   "id": "a02f9961-946b-4240-88e8-d202058e566d",
   "metadata": {},
   "outputs": [
    {
     "data": {
      "text/plain": [
       "array([ 0,  1,  2,  3,  5,  6,  7,  8,  9, 10, 23, 34, 87])"
      ]
     },
     "execution_count": 55,
     "metadata": {},
     "output_type": "execute_result"
    }
   ],
   "source": [
    "np.union1d(si,jk)"
   ]
  },
  {
   "cell_type": "code",
   "execution_count": 57,
   "id": "3f951994-6f15-4f44-b0a3-f50616db329c",
   "metadata": {},
   "outputs": [
    {
     "data": {
      "text/plain": [
       "array([ 1,  3,  5,  6,  7, 34])"
      ]
     },
     "execution_count": 57,
     "metadata": {},
     "output_type": "execute_result"
    }
   ],
   "source": [
    "np.intersect1d(si,jk)"
   ]
  },
  {
   "cell_type": "code",
   "execution_count": 59,
   "id": "e91909fa-2e72-4e45-a697-00a119b4dd58",
   "metadata": {},
   "outputs": [
    {
     "data": {
      "text/plain": [
       "array([ 8,  9, 23])"
      ]
     },
     "execution_count": 59,
     "metadata": {},
     "output_type": "execute_result"
    }
   ],
   "source": [
    "np.setdiff1d(si,jk)"
   ]
  },
  {
   "cell_type": "code",
   "execution_count": 63,
   "id": "c231a8b0-b620-4bb7-aaf5-f26fa0eb0115",
   "metadata": {},
   "outputs": [
    {
     "data": {
      "text/plain": [
       "array([ 0,  2,  8,  9, 10, 23, 87])"
      ]
     },
     "execution_count": 63,
     "metadata": {},
     "output_type": "execute_result"
    }
   ],
   "source": [
    "np.setxor1d(si,jk)"
   ]
  },
  {
   "cell_type": "code",
   "execution_count": 67,
   "id": "d9710f58-1d85-49b0-b84a-8328b3a694d1",
   "metadata": {},
   "outputs": [
    {
     "data": {
      "text/plain": [
       "array([ True, False, False, False, False, False, False, False, False])"
      ]
     },
     "execution_count": 67,
     "metadata": {},
     "output_type": "execute_result"
    }
   ],
   "source": [
    "np.in1d(si,1)"
   ]
  },
  {
   "cell_type": "code",
   "execution_count": 69,
   "id": "b26a27a9-8cfa-4d9a-8f53-8a40aa6db82d",
   "metadata": {},
   "outputs": [
    {
     "data": {
      "text/plain": [
       "array([10, 10, 10, 10, 10, 34, 10, 10, 87, 10])"
      ]
     },
     "execution_count": 69,
     "metadata": {},
     "output_type": "execute_result"
    }
   ],
   "source": [
    "np.clip(jk,a_min=10,a_max=88)"
   ]
  },
  {
   "cell_type": "code",
   "execution_count": null,
   "id": "b5e8e89b-5f2f-427d-82e0-212cdf3ca1f4",
   "metadata": {},
   "outputs": [],
   "source": []
  },
  {
   "cell_type": "code",
   "execution_count": null,
   "id": "6c07fb64-cd61-43b7-8a21-7d4f3e98d7a4",
   "metadata": {},
   "outputs": [],
   "source": []
  },
  {
   "cell_type": "code",
   "execution_count": null,
   "id": "b8ef267d-6d0b-419f-aa53-d12f39d80116",
   "metadata": {},
   "outputs": [],
   "source": []
  },
  {
   "cell_type": "code",
   "execution_count": null,
   "id": "5f73d4a5-9860-4cf3-bbaf-f454d3352633",
   "metadata": {},
   "outputs": [],
   "source": []
  },
  {
   "cell_type": "code",
   "execution_count": null,
   "id": "0ef6072c-385d-40d5-bd02-3504d3caabf1",
   "metadata": {},
   "outputs": [],
   "source": []
  },
  {
   "cell_type": "code",
   "execution_count": null,
   "id": "ddd19937-e34b-4ce0-833a-b8d7347e96d1",
   "metadata": {},
   "outputs": [],
   "source": []
  },
  {
   "cell_type": "code",
   "execution_count": null,
   "id": "b3a78165-66d1-477a-9312-4e7fb240e1f7",
   "metadata": {},
   "outputs": [],
   "source": []
  },
  {
   "cell_type": "code",
   "execution_count": null,
   "id": "c4247a78-4cd2-4508-ae33-1483ea63f04e",
   "metadata": {},
   "outputs": [],
   "source": []
  },
  {
   "cell_type": "code",
   "execution_count": null,
   "id": "2407fbc6-34b6-4322-9bd8-28d6156fff34",
   "metadata": {},
   "outputs": [],
   "source": []
  },
  {
   "cell_type": "code",
   "execution_count": null,
   "id": "3f277843-7d9d-45d1-acb6-d718456001d0",
   "metadata": {},
   "outputs": [],
   "source": []
  },
  {
   "cell_type": "code",
   "execution_count": null,
   "id": "6af8f3eb-3b26-459e-b489-ee6c235e3d3c",
   "metadata": {},
   "outputs": [],
   "source": []
  },
  {
   "cell_type": "code",
   "execution_count": null,
   "id": "f530df9c-4208-4d75-b959-9920403f0671",
   "metadata": {},
   "outputs": [],
   "source": []
  },
  {
   "cell_type": "code",
   "execution_count": null,
   "id": "566ed672-3c80-488c-9a56-85fcd7aad6b4",
   "metadata": {},
   "outputs": [],
   "source": []
  },
  {
   "cell_type": "code",
   "execution_count": null,
   "id": "627916e7-1874-4b82-b15b-b5ded0313dd5",
   "metadata": {},
   "outputs": [],
   "source": []
  },
  {
   "cell_type": "code",
   "execution_count": null,
   "id": "1c48dca2-8677-4d5b-b482-c86a536a98de",
   "metadata": {},
   "outputs": [],
   "source": []
  }
 ],
 "metadata": {
  "kernelspec": {
   "display_name": "Python 3 (ipykernel)",
   "language": "python",
   "name": "python3"
  },
  "language_info": {
   "codemirror_mode": {
    "name": "ipython",
    "version": 3
   },
   "file_extension": ".py",
   "mimetype": "text/x-python",
   "name": "python",
   "nbconvert_exporter": "python",
   "pygments_lexer": "ipython3",
   "version": "3.12.7"
  }
 },
 "nbformat": 4,
 "nbformat_minor": 5
}
