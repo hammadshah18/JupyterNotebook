{
 "cells": [
  {
   "cell_type": "markdown",
   "id": "e3871e92-3544-4f96-afa0-3cdc049e60de",
   "metadata": {},
   "source": [
    "<h1>Advanced Numpy</h1>"
   ]
  },
  {
   "cell_type": "markdown",
   "id": "572c6c8a-e527-427b-a603-e1188667e94e",
   "metadata": {},
   "source": [
    "<h1>Numpy Array vs python</h1>"
   ]
  },
  {
   "cell_type": "markdown",
   "id": "7e0dc31b-1c8c-40ad-ae96-2f126c3b8f89",
   "metadata": {},
   "source": [
    "<h1>Time comparism</h1>"
   ]
  },
  {
   "cell_type": "code",
   "execution_count": 7,
   "id": "669fcaf5-7b09-42ab-9a7b-2f0d6ead72f1",
   "metadata": {},
   "outputs": [
    {
     "name": "stdout",
     "output_type": "stream",
     "text": [
      "3.02167010307312\n"
     ]
    }
   ],
   "source": [
    "# list is very slow\n",
    "a=[i for i in range(10000000)]\n",
    "b=[i for i in range(10000000,20000000)]\n",
    "c=[]\n",
    "import time\n",
    "start=time.time()\n",
    "for i in range(len(a)):\n",
    "    c.append(a[i]+b[i])\n",
    "\n",
    "print(time.time()-start)\n",
    "\n",
    "   "
   ]
  },
  {
   "cell_type": "code",
   "execution_count": 9,
   "id": "b1ba871b-8f07-43e1-bba4-114fdc894611",
   "metadata": {},
   "outputs": [
    {
     "name": "stdout",
     "output_type": "stream",
     "text": [
      "0.16887879371643066\n"
     ]
    }
   ],
   "source": [
    "# array is fast \n",
    "import numpy as np\n",
    "a=np.array(10000000)\n",
    "b=np.arange(10000000,20000000)\n",
    "import time\n",
    "start=time.time()\n",
    "c=a+b\n",
    "print(time.time()-start)"
   ]
  },
  {
   "cell_type": "markdown",
   "id": "1e70b9c3-5b00-46a6-9570-28cfddfea785",
   "metadata": {},
   "source": [
    "<h1>Memory comparism</h1>"
   ]
  },
  {
   "cell_type": "code",
   "execution_count": 14,
   "id": "1a76a0a9-94c0-40a8-ab23-406878aa10cb",
   "metadata": {},
   "outputs": [
    {
     "data": {
      "text/plain": [
       "89095160"
      ]
     },
     "execution_count": 14,
     "metadata": {},
     "output_type": "execute_result"
    }
   ],
   "source": [
    "#memory\n",
    "a=[i for i in range(10000000)]\n",
    "import sys\n",
    "sys.getsizeof(a)"
   ]
  },
  {
   "cell_type": "code",
   "execution_count": 26,
   "id": "4a148c04-0105-4898-a02e-efec5ec2814a",
   "metadata": {},
   "outputs": [
    {
     "data": {
      "text/plain": [
       "10000112"
      ]
     },
     "execution_count": 26,
     "metadata": {},
     "output_type": "execute_result"
    }
   ],
   "source": [
    "import numpy as np\n",
    "a1=np.arange(10000000,dtype=np.int8)\n",
    "import sys\n",
    "sys.getsizeof(a1)"
   ]
  },
  {
   "cell_type": "markdown",
   "id": "3e9688b4-d2bb-4309-9b13-a8b460f156cf",
   "metadata": {},
   "source": [
    "<h1>Fancing Indexing</h1>"
   ]
  },
  {
   "cell_type": "code",
   "execution_count": 31,
   "id": "113b836d-5467-4a87-9478-25aa000173d4",
   "metadata": {},
   "outputs": [
    {
     "name": "stdout",
     "output_type": "stream",
     "text": [
      "[[ 0  1  2]\n",
      " [ 3  4  5]\n",
      " [ 6  7  8]\n",
      " [ 9 10 11]]\n"
     ]
    }
   ],
   "source": [
    "import numpy as np\n",
    "b1=np.arange(12).reshape(4,3)\n",
    "print(b1)\n"
   ]
  },
  {
   "cell_type": "code",
   "execution_count": 33,
   "id": "3eb6806c-1995-4e87-834e-e960c610f502",
   "metadata": {},
   "outputs": [
    {
     "data": {
      "text/plain": [
       "array([[ 0,  1,  2],\n",
       "       [ 6,  7,  8],\n",
       "       [ 9, 10, 11]])"
      ]
     },
     "execution_count": 33,
     "metadata": {},
     "output_type": "execute_result"
    }
   ],
   "source": [
    "b1[[0,2,3]]"
   ]
  },
  {
   "cell_type": "code",
   "execution_count": 39,
   "id": "bf6e3003-3d35-498a-a226-d6b306f067bd",
   "metadata": {},
   "outputs": [
    {
     "data": {
      "text/plain": [
       "array([[ 0,  2],\n",
       "       [ 3,  5],\n",
       "       [ 6,  8],\n",
       "       [ 9, 11]])"
      ]
     },
     "execution_count": 39,
     "metadata": {},
     "output_type": "execute_result"
    }
   ],
   "source": [
    "b1[:,[0,2]]"
   ]
  },
  {
   "cell_type": "markdown",
   "id": "4220b790-1ec7-4720-8ec5-282ea423f4a4",
   "metadata": {},
   "source": [
    "<h1>Boolean Indexing</h1>"
   ]
  },
  {
   "cell_type": "code",
   "execution_count": 44,
   "id": "f0421c5b-8500-453f-8fe2-2d28af7a8002",
   "metadata": {},
   "outputs": [
    {
     "name": "stdout",
     "output_type": "stream",
     "text": [
      "[[ 3 90 80 73]\n",
      " [37 96 34 98]\n",
      " [14 56 59 21]\n",
      " [ 9 15 58  6]\n",
      " [73 44 72  4]\n",
      " [31 19 95 85]]\n"
     ]
    }
   ],
   "source": [
    "import numpy as np\n",
    "bol=np.random.randint(1,100,24).reshape(6,4)\n",
    "print(bol)"
   ]
  },
  {
   "cell_type": "code",
   "execution_count": 46,
   "id": "880058f8-db8f-422e-85ce-eb5df700bb5e",
   "metadata": {},
   "outputs": [
    {
     "data": {
      "text/plain": [
       "array([[False,  True,  True,  True],\n",
       "       [False,  True, False,  True],\n",
       "       [False,  True,  True, False],\n",
       "       [False, False,  True, False],\n",
       "       [ True, False,  True, False],\n",
       "       [False, False,  True,  True]])"
      ]
     },
     "execution_count": 46,
     "metadata": {},
     "output_type": "execute_result"
    }
   ],
   "source": [
    "bol>50"
   ]
  },
  {
   "cell_type": "code",
   "execution_count": 48,
   "id": "6ecf4496-c1dc-4260-90e2-22628415c765",
   "metadata": {},
   "outputs": [
    {
     "data": {
      "text/plain": [
       "array([90, 80, 73, 96, 98, 56, 59, 58, 73, 72, 95, 85])"
      ]
     },
     "execution_count": 48,
     "metadata": {},
     "output_type": "execute_result"
    }
   ],
   "source": [
    "bol[bol>50]"
   ]
  },
  {
   "cell_type": "code",
   "execution_count": 50,
   "id": "6b19ad60-4bc8-417b-9e74-34d105432bd9",
   "metadata": {},
   "outputs": [
    {
     "data": {
      "text/plain": [
       "array([[False, False, False, False],\n",
       "       [False, False, False, False],\n",
       "       [False, False, False, False],\n",
       "       [False, False, False, False],\n",
       "       [False, False, False, False],\n",
       "       [False, False, False, False]])"
      ]
     },
     "execution_count": 50,
     "metadata": {},
     "output_type": "execute_result"
    }
   ],
   "source": [
    "bol==20"
   ]
  },
  {
   "cell_type": "code",
   "execution_count": 52,
   "id": "30a51b18-b775-4696-aa20-5f175539e5fc",
   "metadata": {},
   "outputs": [
    {
     "data": {
      "text/plain": [
       "array([], dtype=int32)"
      ]
     },
     "execution_count": 52,
     "metadata": {},
     "output_type": "execute_result"
    }
   ],
   "source": [
    "bol[bol==20]"
   ]
  },
  {
   "cell_type": "code",
   "execution_count": 62,
   "id": "ec805812-22a9-468f-8952-d10806260e69",
   "metadata": {},
   "outputs": [
    {
     "data": {
      "text/plain": [
       "array([90, 80, 96, 98, 56, 58, 72])"
      ]
     },
     "execution_count": 62,
     "metadata": {},
     "output_type": "execute_result"
    }
   ],
   "source": [
    "bol[(bol>50) & (bol % 2 == 0)]"
   ]
  },
  {
   "cell_type": "code",
   "execution_count": 66,
   "id": "8e17aaa0-d773-4be4-988b-d8140d954454",
   "metadata": {},
   "outputs": [
    {
     "data": {
      "text/plain": [
       "array([98, 14, 56, 21])"
      ]
     },
     "execution_count": 66,
     "metadata": {},
     "output_type": "execute_result"
    }
   ],
   "source": [
    "bol[(bol % 7 == 0)]"
   ]
  },
  {
   "cell_type": "code",
   "execution_count": 68,
   "id": "71126b28-739d-470f-8302-7282c883ffd2",
   "metadata": {},
   "outputs": [
    {
     "data": {
      "text/plain": [
       "array([ 3, 90, 80, 73, 37, 96, 34, 59,  9, 15, 58,  6, 73, 44, 72,  4, 31,\n",
       "       19, 95, 85])"
      ]
     },
     "execution_count": 68,
     "metadata": {},
     "output_type": "execute_result"
    }
   ],
   "source": [
    "bol[~(bol % 7 == 0)]"
   ]
  },
  {
   "cell_type": "markdown",
   "id": "7dabcaa0-a016-48c6-87cd-97726cc7fbc2",
   "metadata": {},
   "source": [
    "<h1>BroadCasting</h1>"
   ]
  },
  {
   "cell_type": "code",
   "execution_count": 73,
   "id": "88e68061-e390-4bc4-8739-e42aa697830d",
   "metadata": {},
   "outputs": [
    {
     "name": "stdout",
     "output_type": "stream",
     "text": [
      "[[ 0  2  4  6]\n",
      " [ 4  6  8 10]\n",
      " [ 8 10 12 14]]\n"
     ]
    }
   ],
   "source": [
    "import numpy as np\n",
    "broad=np.arange(12).reshape(3,4)\n",
    "br=np.arange(4).reshape(4)\n",
    "print(broad+br)"
   ]
  },
  {
   "cell_type": "code",
   "execution_count": 83,
   "id": "fce0f309-6631-4a02-85cd-593e9dfc19a0",
   "metadata": {},
   "outputs": [
    {
     "name": "stdout",
     "output_type": "stream",
     "text": [
      "[[ 0  2  4]\n",
      " [ 3  5  7]\n",
      " [ 6  8 10]\n",
      " [ 9 11 13]]\n"
     ]
    }
   ],
   "source": [
    "import numpy as np\n",
    "bro=np.arange(12).reshape(4,3)\n",
    "br1=np.arange(3).reshape(3)\n",
    "print(bro+br1)"
   ]
  },
  {
   "cell_type": "code",
   "execution_count": 85,
   "id": "712bec2f-af49-4e4e-8937-5db8a9d60eda",
   "metadata": {},
   "outputs": [
    {
     "name": "stdout",
     "output_type": "stream",
     "text": [
      "[[0 1 2]\n",
      " [3 4 5]\n",
      " [6 7 8]]\n"
     ]
    }
   ],
   "source": [
    "import numpy as np\n",
    "broad1=np.arange(9).reshape(3,3)\n",
    "br2=np.arange(1).reshape(1)\n",
    "print(broad1+br2)"
   ]
  },
  {
   "cell_type": "code",
   "execution_count": 87,
   "id": "5e5eb8ed-1ab6-49c5-8971-61480d3983cd",
   "metadata": {},
   "outputs": [
    {
     "ename": "ValueError",
     "evalue": "operands could not be broadcast together with shapes (4,4) (2,2) ",
     "output_type": "error",
     "traceback": [
      "\u001b[1;31m---------------------------------------------------------------------------\u001b[0m",
      "\u001b[1;31mValueError\u001b[0m                                Traceback (most recent call last)",
      "Cell \u001b[1;32mIn[87], line 4\u001b[0m\n\u001b[0;32m      2\u001b[0m camp\u001b[38;5;241m=\u001b[39mnp\u001b[38;5;241m.\u001b[39marange(\u001b[38;5;241m16\u001b[39m)\u001b[38;5;241m.\u001b[39mreshape(\u001b[38;5;241m4\u001b[39m,\u001b[38;5;241m4\u001b[39m)\n\u001b[0;32m      3\u001b[0m camp1\u001b[38;5;241m=\u001b[39mnp\u001b[38;5;241m.\u001b[39marange(\u001b[38;5;241m4\u001b[39m)\u001b[38;5;241m.\u001b[39mreshape(\u001b[38;5;241m2\u001b[39m,\u001b[38;5;241m2\u001b[39m)\n\u001b[1;32m----> 4\u001b[0m \u001b[38;5;28mprint\u001b[39m(camp\u001b[38;5;241m+\u001b[39mcamp1)\n",
      "\u001b[1;31mValueError\u001b[0m: operands could not be broadcast together with shapes (4,4) (2,2) "
     ]
    }
   ],
   "source": [
    "import numpy as np\n",
    "camp=np.arange(16).reshape(4,4)\n",
    "camp1=np.arange(4).reshape(2,2)\n",
    "print(camp+camp1)"
   ]
  },
  {
   "cell_type": "markdown",
   "id": "f16f91b4-f909-4ebb-8ec4-0e611f8b76c3",
   "metadata": {},
   "source": [
    "<h1>Mathematical function and formulas </h1>"
   ]
  },
  {
   "cell_type": "code",
   "execution_count": 94,
   "id": "1a6fe9fb-8d7d-4fbc-8f47-077ab917a1cb",
   "metadata": {},
   "outputs": [
    {
     "data": {
      "text/plain": [
       "array([0.5       , 0.73105858, 0.88079708, 0.95257413, 0.98201379,\n",
       "       0.99330715, 0.99752738, 0.99908895, 0.99966465, 0.99987661,\n",
       "       0.9999546 , 0.9999833 , 0.99999386, 0.99999774, 0.99999917,\n",
       "       0.99999969, 0.99999989, 0.99999996, 0.99999998, 0.99999999,\n",
       "       1.        , 1.        , 1.        , 1.        , 1.        ,\n",
       "       1.        , 1.        , 1.        , 1.        , 1.        ,\n",
       "       1.        , 1.        , 1.        , 1.        , 1.        ,\n",
       "       1.        , 1.        , 1.        , 1.        , 1.        ,\n",
       "       1.        , 1.        , 1.        , 1.        , 1.        ,\n",
       "       1.        , 1.        , 1.        , 1.        , 1.        ,\n",
       "       1.        , 1.        , 1.        , 1.        , 1.        ,\n",
       "       1.        , 1.        , 1.        , 1.        , 1.        ,\n",
       "       1.        , 1.        , 1.        , 1.        , 1.        ,\n",
       "       1.        , 1.        , 1.        , 1.        , 1.        ,\n",
       "       1.        , 1.        , 1.        , 1.        , 1.        ,\n",
       "       1.        , 1.        , 1.        , 1.        , 1.        ,\n",
       "       1.        , 1.        , 1.        , 1.        , 1.        ,\n",
       "       1.        , 1.        , 1.        , 1.        , 1.        ,\n",
       "       1.        , 1.        , 1.        , 1.        , 1.        ,\n",
       "       1.        , 1.        , 1.        , 1.        , 1.        ])"
      ]
     },
     "execution_count": 94,
     "metadata": {},
     "output_type": "execute_result"
    }
   ],
   "source": [
    "#sigmoid\n",
    "import numpy as np\n",
    "def sigmoid(array):\n",
    "    return (1/(1+np.exp(-array)))\n",
    "\n",
    "a=np.arange(100)\n",
    "\n",
    "sigmoid(a)"
   ]
  },
  {
   "cell_type": "code",
   "execution_count": 98,
   "id": "fd77d33c-d556-4665-b87b-f3cdc68ee069",
   "metadata": {},
   "outputs": [
    {
     "data": {
      "image/png": "[encoded data removed]",
      "text/plain": [
       "<Figure size 800x600 with 1 Axes>"
      ]
     },
     "metadata": {},
     "output_type": "display_data"
    }
   ],
   "source": [
    "# using sigmoid with example\n",
    "import numpy as np\n",
    "import matplotlib.pyplot as plt\n",
    "\n",
    "# Define the sigmoid function\n",
    "def sigmoid(x):\n",
    "    return 1 / (1 + np.exp(-x))\n",
    "\n",
    "# Generate input values\n",
    "x = np.linspace(-10, 10, 100)  # Values from -10 to 10\n",
    "y = sigmoid(x)\n",
    "\n",
    "# Plot the sigmoid function\n",
    "plt.figure(figsize=(8, 6))\n",
    "plt.plot(x, y, label=\"Sigmoid Function\", color='blue')\n",
    "plt.title(\"Sigmoid Function\", fontsize=14)\n",
    "plt.xlabel(\"Input (x)\", fontsize=12)\n",
    "plt.ylabel(\"Output (σ(x))\", fontsize=12)\n",
    "plt.axhline(y=0.5, color='red', linestyle='--', label=\"Decision Boundary (y=0.5)\")\n",
    "plt.axvline(x=0, color='green', linestyle='--', label=\"Input x=0\")\n",
    "plt.legend()\n",
    "plt.grid(True)\n",
    "plt.show()\n"
   ]
  },
  {
   "cell_type": "markdown",
   "id": "40d1dfb0-086b-4bb3-80af-cb7a6c1bca72",
   "metadata": {},
   "source": [
    "<h1>Mean squarred Error</h1>"
   ]
  },
  {
   "cell_type": "code",
   "execution_count": 101,
   "id": "ace28a6e-0e61-43d4-b447-e6ed1c13b6a7",
   "metadata": {},
   "outputs": [
    {
     "data": {
      "text/plain": [
       "16.9744"
      ]
     },
     "execution_count": 101,
     "metadata": {},
     "output_type": "execute_result"
    }
   ],
   "source": [
    "import numpy as np\n",
    "actual=np.random.randint(1,50,25)\n",
    "predict=np.random.randint(1,50,25)\n",
    "def mse(actual,predict):\n",
    "    return (np.mean(actual-predict)**2)\n",
    "\n",
    "\n",
    "mse(actual,predict)"
   ]
  },
  {
   "cell_type": "code",
   "execution_count": 103,
   "id": "86316784-3e08-4292-91e4-eb0076029dfb",
   "metadata": {},
   "outputs": [
    {
     "name": "stdout",
     "output_type": "stream",
     "text": [
      "Mean Squared Error: 0.375\n"
     ]
    }
   ],
   "source": [
    "import numpy as np\n",
    "\n",
    "# Actual and predicted values\n",
    "y_actual = np.array([3, -0.5, 2, 7])\n",
    "y_predicted = np.array([2.5, 0.0, 2, 8])\n",
    "\n",
    "# Calculate MSE\n",
    "mse = np.mean((y_actual - y_predicted) ** 2)\n",
    "print(f\"Mean Squared Error: {mse}\")\n"
   ]
  },
  {
   "cell_type": "markdown",
   "id": "3146450a-94de-4f4f-acf0-e3e9e62c1529",
   "metadata": {},
   "source": [
    "<h1>Binary loss entropy </h1>"
   ]
  },
  {
   "cell_type": "code",
   "execution_count": 150,
   "id": "f7c3d22e-a0f8-4476-aec3-f16d8874f1d9",
   "metadata": {},
   "outputs": [
    {
     "data": {
      "text/plain": [
       "0.12659912045319555"
      ]
     },
     "execution_count": 150,
     "metadata": {},
     "output_type": "execute_result"
    }
   ],
   "source": [
    "# binary loss Entropy implementation using python\n",
    "import numpy as np\n",
    "Y_true=np.array([1,0,1,0,1,0])\n",
    "Y_Pred= np.array([0.9, 0.2, 0.8, 0.1, 0.95, 0.05])\n",
    "def Bce(Y_true,Y_Pred):\n",
    "    return np.mean(-(Y_true * np.log(Y_Pred) + (1 - Y_true) * np.log(1 - Y_Pred)))\n",
    "\n",
    "Bce(Y_true,Y_Pred)"
   ]
  },
  {
   "cell_type": "code",
   "execution_count": 138,
   "id": "81c2f893-335a-4ddb-9979-cd0f7cba5e5c",
   "metadata": {},
   "outputs": [
    {
     "name": "stdout",
     "output_type": "stream",
     "text": [
      "Individual Losses: [0.10536052 0.22314355 0.22314355 0.10536052 0.05129329 0.05129329]\n",
      "Average Binary Cross-Entropy Loss: 0.12659912045319555\n"
     ]
    }
   ],
   "source": [
    "import numpy as np\n",
    "\n",
    "# True labels\n",
    "y_true = np.array([1, 0, 1, 0, 1, 0])\n",
    "\n",
    "# Predicted probabilities\n",
    "y_pred = np.array([0.9, 0.2, 0.8, 0.1, 0.95, 0.05])\n",
    "\n",
    "# Binary Cross-Entropy Loss\n",
    "losses = - (y_true * np.log(y_pred) + (1 - y_true) * np.log(1 - y_pred))\n",
    "average_loss = np.mean(losses)\n",
    "\n",
    "print(\"Individual Losses:\", losses)\n",
    "print(\"Average Binary Cross-Entropy Loss:\", average_loss)\n"
   ]
  },
  {
   "cell_type": "code",
   "execution_count": 140,
   "id": "3755e96e-8c3d-4ba8-9c57-7d02669c8d48",
   "metadata": {},
   "outputs": [
    {
     "data": {
      "text/plain": [
       "1.1489386236944954"
      ]
     },
     "execution_count": 140,
     "metadata": {},
     "output_type": "execute_result"
    }
   ],
   "source": [
    "import numpy as np\n",
    "Y_true=np.array([1,0,1,0,1,0])\n",
    "Y_Pred=np.random.random(6)\n",
    "def Bce(Y_true,Y_Pred):\n",
    "    return np.mean(-(Y_true * np.log(Y_Pred) + (1 - Y_true) * np.log(1 - Y_Pred)))\n",
    "\n",
    "Bce(Y_true,Y_Pred)"
   ]
  },
  {
   "cell_type": "markdown",
   "id": "56a758cd-a45e-41d9-8991-ad1906f2550b",
   "metadata": {},
   "source": [
    "<h1>Working with missing values</h1>"
   ]
  },
  {
   "cell_type": "code",
   "execution_count": 153,
   "id": "f1c162de-1e5e-4c0c-9862-807d77bdfd12",
   "metadata": {},
   "outputs": [
    {
     "name": "stdout",
     "output_type": "stream",
     "text": [
      "[ 1.  2.  3.  4. nan  6.]\n"
     ]
    }
   ],
   "source": [
    "import numpy as np\n",
    "miss=np.array([1,2,3,4,np.nan,6]) # np.nan will blanl the place \n",
    "print(miss)\n"
   ]
  },
  {
   "cell_type": "code",
   "execution_count": 161,
   "id": "0a00a8f7-c7c5-458c-a0e2-4b91ef9d1c17",
   "metadata": {},
   "outputs": [
    {
     "data": {
      "text/plain": [
       "array([1., 2., 3., 4., 6.])"
      ]
     },
     "execution_count": 161,
     "metadata": {},
     "output_type": "execute_result"
    }
   ],
   "source": [
    "miss[~np.isnan(miss)] # this fucntion will delete all missing values from here\n"
   ]
  },
  {
   "cell_type": "markdown",
   "id": "59f27ea6-d381-4e59-aea2-ac863e915043",
   "metadata": {},
   "source": [
    "<h1>plotting a Graph</h1>"
   ]
  },
  {
   "cell_type": "markdown",
   "id": "b8aeaf51-b6d5-4dbb-9831-dfeac7681f0d",
   "metadata": {},
   "source": [
    "<h1>Plotting 2d graph</h1>"
   ]
  },
  {
   "cell_type": "code",
   "execution_count": 177,
   "id": "b385a044-912d-443c-b6e3-2c616c05bca4",
   "metadata": {},
   "outputs": [
    {
     "name": "stdout",
     "output_type": "stream",
     "text": [
      "[-10.          -9.7979798   -9.5959596   -9.39393939  -9.19191919\n",
      "  -8.98989899  -8.78787879  -8.58585859  -8.38383838  -8.18181818\n",
      "  -7.97979798  -7.77777778  -7.57575758  -7.37373737  -7.17171717\n",
      "  -6.96969697  -6.76767677  -6.56565657  -6.36363636  -6.16161616\n",
      "  -5.95959596  -5.75757576  -5.55555556  -5.35353535  -5.15151515\n",
      "  -4.94949495  -4.74747475  -4.54545455  -4.34343434  -4.14141414\n",
      "  -3.93939394  -3.73737374  -3.53535354  -3.33333333  -3.13131313\n",
      "  -2.92929293  -2.72727273  -2.52525253  -2.32323232  -2.12121212\n",
      "  -1.91919192  -1.71717172  -1.51515152  -1.31313131  -1.11111111\n",
      "  -0.90909091  -0.70707071  -0.50505051  -0.3030303   -0.1010101\n",
      "   0.1010101    0.3030303    0.50505051   0.70707071   0.90909091\n",
      "   1.11111111   1.31313131   1.51515152   1.71717172   1.91919192\n",
      "   2.12121212   2.32323232   2.52525253   2.72727273   2.92929293\n",
      "   3.13131313   3.33333333   3.53535354   3.73737374   3.93939394\n",
      "   4.14141414   4.34343434   4.54545455   4.74747475   4.94949495\n",
      "   5.15151515   5.35353535   5.55555556   5.75757576   5.95959596\n",
      "   6.16161616   6.36363636   6.56565657   6.76767677   6.96969697\n",
      "   7.17171717   7.37373737   7.57575758   7.77777778   7.97979798\n",
      "   8.18181818   8.38383838   8.58585859   8.78787879   8.98989899\n",
      "   9.19191919   9.39393939   9.5959596    9.7979798   10.        ] [-10.          -9.7979798   -9.5959596   -9.39393939  -9.19191919\n",
      "  -8.98989899  -8.78787879  -8.58585859  -8.38383838  -8.18181818\n",
      "  -7.97979798  -7.77777778  -7.57575758  -7.37373737  -7.17171717\n",
      "  -6.96969697  -6.76767677  -6.56565657  -6.36363636  -6.16161616\n",
      "  -5.95959596  -5.75757576  -5.55555556  -5.35353535  -5.15151515\n",
      "  -4.94949495  -4.74747475  -4.54545455  -4.34343434  -4.14141414\n",
      "  -3.93939394  -3.73737374  -3.53535354  -3.33333333  -3.13131313\n",
      "  -2.92929293  -2.72727273  -2.52525253  -2.32323232  -2.12121212\n",
      "  -1.91919192  -1.71717172  -1.51515152  -1.31313131  -1.11111111\n",
      "  -0.90909091  -0.70707071  -0.50505051  -0.3030303   -0.1010101\n",
      "   0.1010101    0.3030303    0.50505051   0.70707071   0.90909091\n",
      "   1.11111111   1.31313131   1.51515152   1.71717172   1.91919192\n",
      "   2.12121212   2.32323232   2.52525253   2.72727273   2.92929293\n",
      "   3.13131313   3.33333333   3.53535354   3.73737374   3.93939394\n",
      "   4.14141414   4.34343434   4.54545455   4.74747475   4.94949495\n",
      "   5.15151515   5.35353535   5.55555556   5.75757576   5.95959596\n",
      "   6.16161616   6.36363636   6.56565657   6.76767677   6.96969697\n",
      "   7.17171717   7.37373737   7.57575758   7.77777778   7.97979798\n",
      "   8.18181818   8.38383838   8.58585859   8.78787879   8.98989899\n",
      "   9.19191919   9.39393939   9.5959596    9.7979798   10.        ]\n"
     ]
    },
    {
     "data": {
      "text/plain": [
       "[<matplotlib.lines.Line2D at 0x19084603fb0>]"
      ]
     },
     "execution_count": 177,
     "metadata": {},
     "output_type": "execute_result"
    },
    {
     "data": {
      "image/png": "[encoded data removed]",
      "text/plain": [
       "<Figure size 640x480 with 1 Axes>"
      ]
     },
     "metadata": {},
     "output_type": "display_data"
    }
   ],
   "source": [
    "import numpy as np\n",
    "import matplotlib.pyplot as plt\n",
    "x=np.linspace(-10,10,100)\n",
    "y=x\n",
    "print(x,y)\n",
    "\n",
    "plt.plot(x,y)"
   ]
  },
  {
   "cell_type": "markdown",
   "id": "9306fd06-2bf0-44bb-8d7b-cf5fff081ee5",
   "metadata": {},
   "source": [
    "<h1>Parabolla</h1>"
   ]
  },
  {
   "cell_type": "code",
   "execution_count": 180,
   "id": "59b5de41-0f28-4568-a8ff-c58d8ee9665c",
   "metadata": {},
   "outputs": [
    {
     "name": "stdout",
     "output_type": "stream",
     "text": [
      "[-10.          -9.7979798   -9.5959596   -9.39393939  -9.19191919\n",
      "  -8.98989899  -8.78787879  -8.58585859  -8.38383838  -8.18181818\n",
      "  -7.97979798  -7.77777778  -7.57575758  -7.37373737  -7.17171717\n",
      "  -6.96969697  -6.76767677  -6.56565657  -6.36363636  -6.16161616\n",
      "  -5.95959596  -5.75757576  -5.55555556  -5.35353535  -5.15151515\n",
      "  -4.94949495  -4.74747475  -4.54545455  -4.34343434  -4.14141414\n",
      "  -3.93939394  -3.73737374  -3.53535354  -3.33333333  -3.13131313\n",
      "  -2.92929293  -2.72727273  -2.52525253  -2.32323232  -2.12121212\n",
      "  -1.91919192  -1.71717172  -1.51515152  -1.31313131  -1.11111111\n",
      "  -0.90909091  -0.70707071  -0.50505051  -0.3030303   -0.1010101\n",
      "   0.1010101    0.3030303    0.50505051   0.70707071   0.90909091\n",
      "   1.11111111   1.31313131   1.51515152   1.71717172   1.91919192\n",
      "   2.12121212   2.32323232   2.52525253   2.72727273   2.92929293\n",
      "   3.13131313   3.33333333   3.53535354   3.73737374   3.93939394\n",
      "   4.14141414   4.34343434   4.54545455   4.74747475   4.94949495\n",
      "   5.15151515   5.35353535   5.55555556   5.75757576   5.95959596\n",
      "   6.16161616   6.36363636   6.56565657   6.76767677   6.96969697\n",
      "   7.17171717   7.37373737   7.57575758   7.77777778   7.97979798\n",
      "   8.18181818   8.38383838   8.58585859   8.78787879   8.98989899\n",
      "   9.19191919   9.39393939   9.5959596    9.7979798   10.        ] [1.00000000e+02 9.60004081e+01 9.20824406e+01 8.82460973e+01\n",
      " 8.44913784e+01 8.08182838e+01 7.72268136e+01 7.37169677e+01\n",
      " 7.02887460e+01 6.69421488e+01 6.36771758e+01 6.04938272e+01\n",
      " 5.73921028e+01 5.43720029e+01 5.14335272e+01 4.85766758e+01\n",
      " 4.58014488e+01 4.31078461e+01 4.04958678e+01 3.79655137e+01\n",
      " 3.55167840e+01 3.31496786e+01 3.08641975e+01 2.86603408e+01\n",
      " 2.65381084e+01 2.44975003e+01 2.25385165e+01 2.06611570e+01\n",
      " 1.88654219e+01 1.71513111e+01 1.55188246e+01 1.39679625e+01\n",
      " 1.24987246e+01 1.11111111e+01 9.80512193e+00 8.58075707e+00\n",
      " 7.43801653e+00 6.37690032e+00 5.39740843e+00 4.49954086e+00\n",
      " 3.68329762e+00 2.94867871e+00 2.29568411e+00 1.72431385e+00\n",
      " 1.23456790e+00 8.26446281e-01 4.99948985e-01 2.55076013e-01\n",
      " 9.18273646e-02 1.02030405e-02 1.02030405e-02 9.18273646e-02\n",
      " 2.55076013e-01 4.99948985e-01 8.26446281e-01 1.23456790e+00\n",
      " 1.72431385e+00 2.29568411e+00 2.94867871e+00 3.68329762e+00\n",
      " 4.49954086e+00 5.39740843e+00 6.37690032e+00 7.43801653e+00\n",
      " 8.58075707e+00 9.80512193e+00 1.11111111e+01 1.24987246e+01\n",
      " 1.39679625e+01 1.55188246e+01 1.71513111e+01 1.88654219e+01\n",
      " 2.06611570e+01 2.25385165e+01 2.44975003e+01 2.65381084e+01\n",
      " 2.86603408e+01 3.08641975e+01 3.31496786e+01 3.55167840e+01\n",
      " 3.79655137e+01 4.04958678e+01 4.31078461e+01 4.58014488e+01\n",
      " 4.85766758e+01 5.14335272e+01 5.43720029e+01 5.73921028e+01\n",
      " 6.04938272e+01 6.36771758e+01 6.69421488e+01 7.02887460e+01\n",
      " 7.37169677e+01 7.72268136e+01 8.08182838e+01 8.44913784e+01\n",
      " 8.82460973e+01 9.20824406e+01 9.60004081e+01 1.00000000e+02]\n"
     ]
    },
    {
     "data": {
      "text/plain": [
       "[<matplotlib.lines.Line2D at 0x190846832f0>]"
      ]
     },
     "execution_count": 180,
     "metadata": {},
     "output_type": "execute_result"
    },
    {
     "data": {
      "image/png": "[encoded data removed]",
      "text/plain": [
       "<Figure size 640x480 with 1 Axes>"
      ]
     },
     "metadata": {},
     "output_type": "display_data"
    }
   ],
   "source": [
    "import numpy as np\n",
    "import matplotlib.pyplot as plt\n",
    "para=np.linspace(-10,10,100)\n",
    "bola=para**2\n",
    "print(para,bola)\n",
    "\n",
    "plt.plot(para,bola)"
   ]
  },
  {
   "cell_type": "code",
   "execution_count": 192,
   "id": "34a0aa4e-db77-4d35-a8ec-2bd3d30cf8c2",
   "metadata": {},
   "outputs": [
    {
     "data": {
      "text/plain": [
       "[<matplotlib.lines.Line2D at 0x190843c0f50>]"
      ]
     },
     "execution_count": 192,
     "metadata": {},
     "output_type": "execute_result"
    },
    {
     "data": {
      "image/png": "[encoded data removed]",
      "text/plain": [
       "<Figure size 640x480 with 1 Axes>"
      ]
     },
     "metadata": {},
     "output_type": "display_data"
    }
   ],
   "source": [
    "import matplotlib.pyplot as plt\n",
    "x1=np.linspace(-10,10,100)\n",
    "y1=np.sin(x1)\n",
    "plt.plot(y1,x1)"
   ]
  },
  {
   "cell_type": "code",
   "execution_count": 196,
   "id": "f218c614-1f34-4b39-887a-94813fbc7303",
   "metadata": {},
   "outputs": [
    {
     "name": "stderr",
     "output_type": "stream",
     "text": [
      "C:\\Users\\hamma\\AppData\\Local\\Temp\\ipykernel_14256\\716342581.py:1: RuntimeWarning: invalid value encountered in log\n",
      "  y1=x1 * np.log(x1)\n"
     ]
    },
    {
     "data": {
      "text/plain": [
       "[<matplotlib.lines.Line2D at 0x1908447ba10>]"
      ]
     },
     "execution_count": 196,
     "metadata": {},
     "output_type": "execute_result"
    },
    {
     "data": {
      "image/png": "[encoded data removed]",
      "text/plain": [
       "<Figure size 640x480 with 1 Axes>"
      ]
     },
     "metadata": {},
     "output_type": "display_data"
    }
   ],
   "source": [
    "y1=x1 * np.log(x1)\n",
    "plt.plot(y1,x1)"
   ]
  },
  {
   "cell_type": "code",
   "execution_count": 198,
   "id": "3d448e50-1d47-420c-845c-1ac0fc5947f0",
   "metadata": {},
   "outputs": [
    {
     "data": {
      "text/plain": [
       "[<matplotlib.lines.Line2D at 0x190856dad20>]"
      ]
     },
     "execution_count": 198,
     "metadata": {},
     "output_type": "execute_result"
    },
    {
     "data": {
      "image/png": "[encoded data removed]",
      "text/plain": [
       "<Figure size 640x480 with 1 Axes>"
      ]
     },
     "metadata": {},
     "output_type": "display_data"
    }
   ],
   "source": [
    "x2=np.linspace(-10,10,100)\n",
    "y2=1 / (1 + np.exp(-x))\n",
    "\n",
    "plt.plot(x2,y2)"
   ]
  },
  {
   "cell_type": "code",
   "execution_count": null,
   "id": "35aaa3ad-6f7f-4aa2-b978-677ad3afa922",
   "metadata": {},
   "outputs": [],
   "source": []
  },
  {
   "cell_type": "code",
   "execution_count": null,
   "id": "74eb58f8-7914-4c5f-af1f-0ab1e0424ab0",
   "metadata": {},
   "outputs": [],
   "source": []
  },
  {
   "cell_type": "code",
   "execution_count": null,
   "id": "688cb99f-8731-4bcd-a593-12b32c8c13d5",
   "metadata": {},
   "outputs": [],
   "source": []
  },
  {
   "cell_type": "code",
   "execution_count": null,
   "id": "bcde762b-f7a0-4e2d-9a35-ce6fd0d73bca",
   "metadata": {},
   "outputs": [],
   "source": []
  },
  {
   "cell_type": "code",
   "execution_count": null,
   "id": "4323e2fa-60fc-4c7a-ac66-3b626ee1268a",
   "metadata": {},
   "outputs": [],
   "source": []
  },
  {
   "cell_type": "code",
   "execution_count": null,
   "id": "481567f9-a0e1-47ef-bef3-6d70ea35eb44",
   "metadata": {},
   "outputs": [],
   "source": []
  },
  {
   "cell_type": "code",
   "execution_count": null,
   "id": "e2398ea8-a707-43eb-9143-f983e6afdebf",
   "metadata": {},
   "outputs": [],
   "source": []
  }
 ],
 "metadata": {
  "kernelspec": {
   "display_name": "Python 3 (ipykernel)",
   "language": "python",
   "name": "python3"
  },
  "language_info": {
   "codemirror_mode": {
    "name": "ipython",
    "version": 3
   },
   "file_extension": ".py",
   "mimetype": "text/x-python",
   "name": "python",
   "nbconvert_exporter": "python",
   "pygments_lexer": "ipython3",
   "version": "3.12.7"
  }
 },
 "nbformat": 4,
 "nbformat_minor": 5
}
