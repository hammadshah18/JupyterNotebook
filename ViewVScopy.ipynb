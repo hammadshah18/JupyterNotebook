{
 "cells": [
  {
   "cell_type": "markdown",
   "id": "2afae737-9222-410c-9eb7-a03f163969a1",
   "metadata": {},
   "source": [
    "<h1>View Vs Copy</h1>"
   ]
  },
  {
   "cell_type": "markdown",
   "id": "272d5c77-4853-4888-a7b7-a981b1bc5ae8",
   "metadata": {},
   "source": [
    "<h1>View</h1>"
   ]
  },
  {
   "cell_type": "code",
   "execution_count": 55,
   "id": "cc26d6e0-c5e5-4c7d-af4b-76d44f15e42f",
   "metadata": {},
   "outputs": [
    {
     "data": {
      "text/plain": [
       "array([  1,   2,   0,   0,   0,   0,   0,   0, 356])"
      ]
     },
     "execution_count": 55,
     "metadata": {},
     "output_type": "execute_result"
    }
   ],
   "source": [
    "import numpy as np\n",
    "a=np.array([1,2,3,4,5,67,5,4,356])\n",
    "slicing=a[2:8]  # it will also updated original array\n",
    "slicing[:]=0\n",
    "a\n",
    "#here original array is also change"
   ]
  },
  {
   "cell_type": "markdown",
   "id": "2d3b49d0-ff47-424d-b785-67206703a1b9",
   "metadata": {},
   "source": [
    "<h1>Copy</h1>"
   ]
  },
  {
   "cell_type": "code",
   "execution_count": 40,
   "id": "ad9d4ccd-2c26-4535-ac0c-54510730a05a",
   "metadata": {},
   "outputs": [
    {
     "data": {
      "text/plain": [
       "array([ 4,  2, 58,  6,  9])"
      ]
     },
     "execution_count": 40,
     "metadata": {},
     "output_type": "execute_result"
    }
   ],
   "source": [
    "import numpy as np\n",
    "a=np.array([34,2,4,2,58,6,9,12])\n",
    "slicing=a[2:7].copy()\n",
    "slicing"
   ]
  },
  {
   "cell_type": "markdown",
   "id": "d4f86938-0d75-4d31-a51d-9a63be75eaee",
   "metadata": {},
   "source": [
    "<h1>Copy</h1>"
   ]
  },
  {
   "cell_type": "code",
   "execution_count": 53,
   "id": "41815ef6-69fd-4051-b238-5ffc7de74412",
   "metadata": {},
   "outputs": [
    {
     "data": {
      "text/plain": [
       "array([34,  2,  4,  2, 58,  6,  9, 12])"
      ]
     },
     "execution_count": 53,
     "metadata": {},
     "output_type": "execute_result"
    }
   ],
   "source": [
    "import numpy as np\n",
    "a=np.array([34,2,4,2,58,6,9,12])\n",
    "slicing=a[2:7].copy()\n",
    "slicing[:]=0\n",
    "\n",
    "a\n",
    "#original array is same as before\n"
   ]
  },
  {
   "cell_type": "code",
   "execution_count": 11,
   "id": "408adbdd-6a23-4acc-b58c-8b00a3226156",
   "metadata": {},
   "outputs": [
    {
     "name": "stdin",
     "output_type": "stream",
     "text": [
      "enter your row size : 3\n",
      "enter your col size : 3\n",
      "enter your element 1\n",
      "enter your element 2\n",
      "enter your element 3\n",
      "enter your element 4\n",
      "enter your element 5\n",
      "enter your element 6\n",
      "enter your element 7\n",
      "enter your element 8\n",
      "enter your element 9\n"
     ]
    },
    {
     "name": "stdout",
     "output_type": "stream",
     "text": [
      "1 2 3 \n",
      "4 5 6 \n",
      "7 8 9 \n"
     ]
    }
   ],
   "source": [
    "import numpy as np\n",
    "matrix=[]\n",
    "row=int(input('enter your row size :'))\n",
    "col=int(input('enter your col size :'))\n",
    "for i in range(row):\n",
    "    a=[]\n",
    "    for j in range(col):\n",
    "        element=int(input('enter your element'))\n",
    "        a.append(element)\n",
    "    matrix.append(a)\n",
    "arr=np.array(matrix)\n",
    "for i in range(row):\n",
    "    for j in range(col):\n",
    "        print(arr[i][j],end=' ')\n",
    "    print()\n",
    "\n",
    "\n",
    "\n",
    "    \n",
    "        \n",
    "        "
   ]
  }
 ],
 "metadata": {
  "kernelspec": {
   "display_name": "Python 3 (ipykernel)",
   "language": "python",
   "name": "python3"
  },
  "language_info": {
   "codemirror_mode": {
    "name": "ipython",
    "version": 3
   },
   "file_extension": ".py",
   "mimetype": "text/x-python",
   "name": "python",
   "nbconvert_exporter": "python",
   "pygments_lexer": "ipython3",
   "version": "3.12.7"
  }
 },
 "nbformat": 4,
 "nbformat_minor": 5
}
