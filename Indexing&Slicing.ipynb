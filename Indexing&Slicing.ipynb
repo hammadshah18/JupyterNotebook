{
 "cells": [
  {
   "cell_type": "markdown",
   "id": "c82ee6d7-d867-4410-9f6f-6ff0abdb26ae",
   "metadata": {},
   "source": [
    "<h1>Converting List into array</h1>"
   ]
  },
  {
   "cell_type": "code",
   "execution_count": null,
   "id": "ad3d0636-5e95-496f-9006-45ed0bbe5c2f",
   "metadata": {},
   "outputs": [],
   "source": [
    "import numpy as np\n",
    "a=[]\n",
    "size=int(input('Enter th Size of Array'))\n",
    "for i in range(size):\n",
    "    val=int(input('Enter the element in array'))\n",
    "    a.append(val)\n",
    "arr=np.array(a)    \n",
    "arr\n",
    "for i in range(arr.size):\n",
    "    print(arr[i])"
   ]
  },
  {
   "cell_type": "markdown",
   "id": "253d3db2-6c7a-49ee-ae5a-33272eeeb4cf",
   "metadata": {},
   "source": [
    "<h1>Sum of Array</h1>"
   ]
  },
  {
   "cell_type": "code",
   "execution_count": 14,
   "id": "567afe0b-46c4-4a75-b379-b1ef5b423043",
   "metadata": {},
   "outputs": [
    {
     "name": "stdin",
     "output_type": "stream",
     "text": [
      "Enter th Size of Array 5\n",
      "Enter the element in array 2\n",
      "Enter the element in array 6\n",
      "Enter the element in array 3\n",
      "Enter the element in array 1\n",
      "Enter the element in array 8\n"
     ]
    },
    {
     "name": "stdout",
     "output_type": "stream",
     "text": [
      "2\n",
      "6\n",
      "3\n",
      "1\n",
      "8\n",
      "Your sum is = 20\n"
     ]
    }
   ],
   "source": [
    "import numpy as np\n",
    "a=[]\n",
    "size=int(input('Enter th Size of Array'))\n",
    "for i in range(size):\n",
    "    val=int(input('Enter the element in array'))\n",
    "    a.append(val)\n",
    "arr=np.array(a)    \n",
    "arr\n",
    "for i in range(arr.size):\n",
    "    print(arr[i])\n",
    "\n",
    "sum=0\n",
    "for i in range(size):\n",
    "    sum=sum+arr[i]\n",
    "\n",
    "print('Your sum is =',sum)"
   ]
  },
  {
   "cell_type": "markdown",
   "id": "97cef9ba-b852-44d8-a20f-fb90cf17f830",
   "metadata": {},
   "source": [
    "<h1>Indexing and slicing</h1>"
   ]
  },
  {
   "cell_type": "code",
   "execution_count": 21,
   "id": "f3720d6e-637d-4ad5-8375-b821b2b8541c",
   "metadata": {},
   "outputs": [
    {
     "name": "stdin",
     "output_type": "stream",
     "text": [
      "Enter th Size of Array 6\n",
      "Enter the element in array 1\n",
      "Enter the element in array 2\n",
      "Enter the element in array 3\n",
      "Enter the element in array 4\n",
      "Enter the element in array 5\n",
      "Enter the element in array 6\n"
     ]
    },
    {
     "name": "stdout",
     "output_type": "stream",
     "text": [
      "1\n",
      "2\n",
      "3\n",
      "4\n",
      "5\n",
      "6\n",
      "[3 4]\n"
     ]
    }
   ],
   "source": [
    "import numpy as np\n",
    "a=[]\n",
    "size=int(input('Enter th Size of Array'))\n",
    "for i in range(size):\n",
    "    val=int(input('Enter the element in array'))\n",
    "    a.append(val)\n",
    "arr=np.array(a)    \n",
    "arr\n",
    "for i in range(arr.size):\n",
    "    print(arr[i])\n",
    "\n",
    "\n",
    "arr1=arr[2:4]  # Means it will start from 3 element bcz index is start with 0 and it will end on 4th element\n",
    "\n",
    "\n",
    "print(arr1)"
   ]
  },
  {
   "cell_type": "code",
   "execution_count": 30,
   "id": "d53bd00e-7232-4203-81a2-692d1355df99",
   "metadata": {},
   "outputs": [
    {
     "name": "stdin",
     "output_type": "stream",
     "text": [
      "Enter th Size of Array 6\n",
      "Enter the element in array 1\n",
      "Enter the element in array 2\n",
      "Enter the element in array 53\n",
      "Enter the element in array 67\n",
      "Enter the element in array 34\n",
      "Enter the element in array 23\n"
     ]
    },
    {
     "name": "stdout",
     "output_type": "stream",
     "text": [
      "1\n",
      "2\n",
      "53\n",
      "67\n",
      "34\n",
      "23\n",
      "[53 67 34 23]\n"
     ]
    }
   ],
   "source": [
    "import numpy as np\n",
    "a=[]\n",
    "size=int(input('Enter th Size of Array'))\n",
    "for i in range(size):\n",
    "    val=int(input('Enter the element in array'))\n",
    "    a.append(val)\n",
    "arr=np.array(a)    \n",
    "arr\n",
    "for i in range(arr.size):\n",
    "    print(arr[i])\n",
    "\n",
    "\n",
    "arr1=arr[2:]  # Means it will start from 3 element bcz index is start with 0 \n",
    "\n",
    "\n",
    "print(arr1)"
   ]
  },
  {
   "cell_type": "code",
   "execution_count": 34,
   "id": "189e7ef3-6c9f-408b-99e2-d6a0ad73ceb2",
   "metadata": {},
   "outputs": [
    {
     "name": "stdin",
     "output_type": "stream",
     "text": [
      "Enter th Size of Array 10\n",
      "Enter the element in array 3\n",
      "Enter the element in array 2\n",
      "Enter the element in array 3\n",
      "Enter the element in array 52\n",
      "Enter the element in array 42\n",
      "Enter the element in array 4\n",
      "Enter the element in array 23\n",
      "Enter the element in array 42\n",
      "Enter the element in array 5\n",
      "Enter the element in array 2\n"
     ]
    },
    {
     "name": "stdout",
     "output_type": "stream",
     "text": [
      "3\n",
      "2\n",
      "3\n",
      "52\n",
      "42\n",
      "4\n",
      "23\n",
      "42\n",
      "5\n",
      "2\n",
      "[ 3 52 23]\n"
     ]
    }
   ],
   "source": [
    "import numpy as np\n",
    "a=[]\n",
    "size=int(input('Enter th Size of Array'))\n",
    "for i in range(size):\n",
    "    val=int(input('Enter the element in array'))\n",
    "    a.append(val)\n",
    "arr=np.array(a)    \n",
    "arr\n",
    "for i in range(arr.size):\n",
    "    print(arr[i])\n",
    "\n",
    "\n",
    "arr1=arr[:7:3]  \n",
    "\n",
    "\n",
    "print(arr1)"
   ]
  },
  {
   "cell_type": "code",
   "execution_count": null,
   "id": "d95e3637-17d5-4095-a4e4-30ce5b002e84",
   "metadata": {},
   "outputs": [],
   "source": []
  }
 ],
 "metadata": {
  "kernelspec": {
   "display_name": "Python 3 (ipykernel)",
   "language": "python",
   "name": "python3"
  },
  "language_info": {
   "codemirror_mode": {
    "name": "ipython",
    "version": 3
   },
   "file_extension": ".py",
   "mimetype": "text/x-python",
   "name": "python",
   "nbconvert_exporter": "python",
   "pygments_lexer": "ipython3",
   "version": "3.12.7"
  }
 },
 "nbformat": 4,
 "nbformat_minor": 5
}
