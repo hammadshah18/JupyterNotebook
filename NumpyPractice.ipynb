{
 "cells": [
  {
   "cell_type": "markdown",
   "id": "f5ee2ee7-775e-4e0c-9c28-b62cbdee3d4c",
   "metadata": {},
   "source": [
    "<h1>Creating Numpy Array</h1>"
   ]
  },
  {
   "cell_type": "code",
   "execution_count": 8,
   "id": "42b8ba8b-3546-488a-ac5b-6157b2a14405",
   "metadata": {},
   "outputs": [
    {
     "name": "stdout",
     "output_type": "stream",
     "text": [
      "[1 2 3]\n",
      "<class 'numpy.ndarray'>\n"
     ]
    }
   ],
   "source": [
    "import numpy as np\n",
    "a=np.array([1,2,3])\n",
    "print(a)\n",
    "print(type(a))"
   ]
  },
  {
   "cell_type": "code",
   "execution_count": 37,
   "id": "ada5540c-a145-4ccb-bded-c87e89839353",
   "metadata": {},
   "outputs": [
    {
     "name": "stdout",
     "output_type": "stream",
     "text": [
      "[[1 2 3 4]\n",
      " [5 6 7 8]]\n"
     ]
    }
   ],
   "source": [
    "import numpy as np\n",
    "c=np.array([[1,2,3,4],[5,6,7,8]])\n",
    "print(c)"
   ]
  },
  {
   "cell_type": "code",
   "execution_count": 42,
   "id": "a534ddf9-ce5c-4c43-8264-5076b749671e",
   "metadata": {},
   "outputs": [
    {
     "name": "stdout",
     "output_type": "stream",
     "text": [
      "[[[ 1  2  3  4]\n",
      "  [ 5  6  7  8]\n",
      "  [ 9 10  2 32]]]\n"
     ]
    }
   ],
   "source": [
    "import numpy as np\n",
    "c=np.array([[[1,2,3,4],[5,6,7,8],[9,10,2,32]]])\n",
    "print(c)"
   ]
  },
  {
   "cell_type": "code",
   "execution_count": 49,
   "id": "5cb3d592-6eb7-462d-b6c8-0cd70914d829",
   "metadata": {},
   "outputs": [
    {
     "name": "stdout",
     "output_type": "stream",
     "text": [
      "[[[[ 1  2  3  4]\n",
      "   [ 5  6  7  8]\n",
      "   [ 9 10  2 32]\n",
      "   [ 2  1  3  2]]]]\n"
     ]
    }
   ],
   "source": [
    "import numpy as np\n",
    "c=np.array([[[[1,2,3,4],[5,6,7,8],[9,10,2,32],[2,1,3,2]]]])\n",
    "print(c)"
   ]
  },
  {
   "cell_type": "code",
   "execution_count": 53,
   "id": "f8f6fb36-068e-4b81-b94f-0dfc9d2a07d7",
   "metadata": {},
   "outputs": [
    {
     "data": {
      "text/plain": [
       "array([[[ 1,  2,  3],\n",
       "        [ 4,  5,  6]],\n",
       "\n",
       "       [[12,  3,  1],\n",
       "        [ 3,  4,  2]],\n",
       "\n",
       "       [[13,  4,  5],\n",
       "        [42, 54,  2]]])"
      ]
     },
     "execution_count": 53,
     "metadata": {},
     "output_type": "execute_result"
    }
   ],
   "source": [
    "import numpy as np\n",
    "np.array([[[1,2,3],[4,5,6]],[[12,3,1],[3,4,2]],[[13,4,5],[42,54,2]]])"
   ]
  },
  {
   "cell_type": "markdown",
   "id": "b35cb9ee-bc9e-4c2c-a01a-96b1b1acb976",
   "metadata": {},
   "source": [
    "<h1>Changing datatype in Array</h1>"
   ]
  },
  {
   "cell_type": "code",
   "execution_count": 15,
   "id": "8878b34e-5c78-466e-bde7-71cd9d5dc60f",
   "metadata": {},
   "outputs": [
    {
     "name": "stdout",
     "output_type": "stream",
     "text": [
      "[1. 2. 3. 4. 5.]\n"
     ]
    }
   ],
   "source": [
    "import numpy as np \n",
    "a=np.array([1,2,3,4,5],dtype=float)\n",
    "print(a)\n"
   ]
  },
  {
   "cell_type": "code",
   "execution_count": 19,
   "id": "f18c5d15-20ab-4522-96a8-55bbdc4ffaee",
   "metadata": {},
   "outputs": [
    {
     "name": "stdout",
     "output_type": "stream",
     "text": [
      "[ True  True  True  True  True]\n"
     ]
    }
   ],
   "source": [
    "import numpy as np \n",
    "a=np.array([1,2,3,4,5],dtype=bool)\n",
    "print(a)"
   ]
  },
  {
   "cell_type": "code",
   "execution_count": 23,
   "id": "63b38f44-9a8f-4179-9e29-30f448e18366",
   "metadata": {},
   "outputs": [
    {
     "name": "stdout",
     "output_type": "stream",
     "text": [
      "[1.+0.j 2.+0.j 3.+0.j 4.+0.j 5.+0.j]\n"
     ]
    }
   ],
   "source": [
    "import numpy as np \n",
    "a=np.array([1,2,3,4,5],dtype=complex)\n",
    "print(a)"
   ]
  },
  {
   "cell_type": "markdown",
   "id": "18067613-7b16-480a-a0aa-64c8b8e9726c",
   "metadata": {},
   "source": [
    "<h1>\n",
    "    Different function in Numpy\n",
    "</h1>"
   ]
  },
  {
   "cell_type": "code",
   "execution_count": 62,
   "id": "ccf65745-beb4-4e3a-a83e-e5b5800db44f",
   "metadata": {},
   "outputs": [
    {
     "name": "stdout",
     "output_type": "stream",
     "text": [
      "[1 3 5 7 9]\n",
      "<class 'numpy.ndarray'>\n"
     ]
    }
   ],
   "source": [
    "import numpy as np\n",
    "a=np.arange(1,10,2)\n",
    "print(a)\n",
    "print(type(a))"
   ]
  },
  {
   "cell_type": "code",
   "execution_count": 85,
   "id": "01a9f058-e793-4c59-af1b-b7a11ae06da3",
   "metadata": {},
   "outputs": [
    {
     "name": "stdout",
     "output_type": "stream",
     "text": [
      "[[1 2 3]\n",
      " [4 5 6]\n",
      " [7 8 9]]\n"
     ]
    }
   ],
   "source": [
    "import numpy as np\n",
    "a=np.arange(1,10).reshape(3,3)\n",
    "print(a)"
   ]
  },
  {
   "cell_type": "code",
   "execution_count": 87,
   "id": "a2258d69-d804-4248-bae4-f9fcb8538b46",
   "metadata": {},
   "outputs": [
    {
     "name": "stdout",
     "output_type": "stream",
     "text": [
      "[[ 1  2  3  4  5]\n",
      " [ 6  7  8  9 10]]\n"
     ]
    }
   ],
   "source": [
    "import numpy as np\n",
    "a=np.arange(1,11).reshape(2,5)\n",
    "print(a)"
   ]
  },
  {
   "cell_type": "code",
   "execution_count": 89,
   "id": "75fb3350-b3bf-47b9-a47f-304ae9ae0bef",
   "metadata": {},
   "outputs": [
    {
     "name": "stdout",
     "output_type": "stream",
     "text": [
      "[[ 1  2]\n",
      " [ 3  4]\n",
      " [ 5  6]\n",
      " [ 7  8]\n",
      " [ 9 10]]\n"
     ]
    }
   ],
   "source": [
    "import numpy as np\n",
    "a=np.arange(1,11).reshape(5,2)\n",
    "print(a)"
   ]
  },
  {
   "cell_type": "code",
   "execution_count": 91,
   "id": "409a8ebd-f510-4ed0-a7e8-2e8cf9cdd550",
   "metadata": {},
   "outputs": [
    {
     "name": "stdout",
     "output_type": "stream",
     "text": [
      "[[ 1  2  3  4  5  6]\n",
      " [ 7  8  9 10 11 12]]\n"
     ]
    }
   ],
   "source": [
    "import numpy as np\n",
    "a=np.arange(1,13).reshape(2,6)\n",
    "print(a)"
   ]
  },
  {
   "cell_type": "code",
   "execution_count": 95,
   "id": "165080be-4b68-4050-8263-964ceaed9fae",
   "metadata": {},
   "outputs": [
    {
     "name": "stdout",
     "output_type": "stream",
     "text": [
      "[[1. 0. 0.]\n",
      " [0. 1. 0.]\n",
      " [0. 0. 1.]]\n"
     ]
    }
   ],
   "source": [
    "import numpy as np\n",
    "a=np.eye(3)\n",
    "print(a)"
   ]
  },
  {
   "cell_type": "code",
   "execution_count": 103,
   "id": "cfe8474e-14f0-4044-8b79-9beb5b1d9a93",
   "metadata": {},
   "outputs": [
    {
     "name": "stdout",
     "output_type": "stream",
     "text": [
      "[[1. 0. 0. 0.]\n",
      " [0. 1. 0. 0.]\n",
      " [0. 0. 1. 0.]\n",
      " [0. 0. 0. 1.]]\n"
     ]
    }
   ],
   "source": [
    "import numpy as np\n",
    "a=np.eye(4)\n",
    "print(a)"
   ]
  },
  {
   "cell_type": "code",
   "execution_count": 105,
   "id": "df344a36-49e9-4288-bdd2-40380171211b",
   "metadata": {},
   "outputs": [
    {
     "name": "stdout",
     "output_type": "stream",
     "text": [
      "[[1. 0. 0. 0. 0.]\n",
      " [0. 1. 0. 0. 0.]\n",
      " [0. 0. 1. 0. 0.]\n",
      " [0. 0. 0. 1. 0.]\n",
      " [0. 0. 0. 0. 1.]]\n"
     ]
    }
   ],
   "source": [
    "import numpy as np\n",
    "a=np.eye(5)\n",
    "print(a)"
   ]
  },
  {
   "cell_type": "code",
   "execution_count": 115,
   "id": "09afbeda-1405-44be-bca4-03649e8cdbca",
   "metadata": {},
   "outputs": [
    {
     "name": "stdout",
     "output_type": "stream",
     "text": [
      "[[0. 0. 0. 0.]\n",
      " [0. 0. 0. 0.]\n",
      " [0. 0. 0. 0.]]\n"
     ]
    }
   ],
   "source": [
    "import numpy as np\n",
    "a=np.zeros((3,4))\n",
    "print(a)"
   ]
  },
  {
   "cell_type": "code",
   "execution_count": 117,
   "id": "c6a0ff15-f824-425a-9904-6425d92a5ef8",
   "metadata": {},
   "outputs": [
    {
     "name": "stdout",
     "output_type": "stream",
     "text": [
      "[[1. 1. 1. 1.]\n",
      " [1. 1. 1. 1.]\n",
      " [1. 1. 1. 1.]]\n"
     ]
    }
   ],
   "source": [
    "import numpy as np\n",
    "a=np.ones((3,4))\n",
    "print(a)"
   ]
  },
  {
   "cell_type": "code",
   "execution_count": 119,
   "id": "e838ec9f-7a4c-4da5-ab74-d6532b7da2f7",
   "metadata": {},
   "outputs": [
    {
     "name": "stdout",
     "output_type": "stream",
     "text": [
      "[[0. 0. 0.]\n",
      " [0. 0. 0.]\n",
      " [0. 0. 0.]]\n"
     ]
    }
   ],
   "source": [
    "import numpy as np\n",
    "a=np.zeros((3,3))\n",
    "print(a)"
   ]
  },
  {
   "cell_type": "markdown",
   "id": "dfae896f-f9c1-4493-a459-d538ec9fdcd4",
   "metadata": {},
   "source": [
    "<h1>Random function generate Numbers between 0 to 1</h1>"
   ]
  },
  {
   "cell_type": "code",
   "execution_count": 138,
   "id": "89b9fb91-d046-4ce8-a307-f2ca22aa4ff3",
   "metadata": {},
   "outputs": [
    {
     "name": "stdout",
     "output_type": "stream",
     "text": [
      "[[0.34603187 0.59590908 0.35276502]\n",
      " [0.28363167 0.52392836 0.05011908]\n",
      " [0.45632641 0.41983075 0.01600947]]\n"
     ]
    }
   ],
   "source": [
    "import numpy as np\n",
    "a=np.random.random((3,3))\n",
    "print(a)\n"
   ]
  },
  {
   "cell_type": "markdown",
   "id": "98908678-d20f-4975-b669-18fa933b188c",
   "metadata": {},
   "source": [
    "<h1>Lin space generates number from given range also can generate from negta</h1>"
   ]
  },
  {
   "cell_type": "code",
   "execution_count": 134,
   "id": "470ca7ef-eeb2-4fd1-b84c-a79b91658f6c",
   "metadata": {},
   "outputs": [
    {
     "name": "stdout",
     "output_type": "stream",
     "text": [
      "[-10.  -6.  -2.   2.   6.  10.]\n"
     ]
    }
   ],
   "source": [
    "import numpy as np\n",
    "a=np.linspace(-10,10,6) # it will generate equal distance number\n",
    "print(a)"
   ]
  },
  {
   "cell_type": "markdown",
   "id": "68e573a2-57f7-46e7-996a-493a2922a9ae",
   "metadata": {},
   "source": [
    "<h1>Array attributes</h1>"
   ]
  },
  {
   "cell_type": "markdown",
   "id": "d4404172-afd6-4807-a701-7ce958fcda11",
   "metadata": {},
   "source": [
    "<H1>This is Shape Function that will tell array shape like 3 row 3 col pr 2 row,3 col</H1>"
   ]
  },
  {
   "cell_type": "code",
   "execution_count": 173,
   "id": "7f0db1a5-38f2-4119-b428-d6ad9492ec4b",
   "metadata": {},
   "outputs": [
    {
     "name": "stdout",
     "output_type": "stream",
     "text": [
      "[0 1 2 3 4 5 6 7 8 9]\n"
     ]
    },
    {
     "data": {
      "text/plain": [
       "(10,)"
      ]
     },
     "execution_count": 173,
     "metadata": {},
     "output_type": "execute_result"
    }
   ],
   "source": [
    "import numpy as np\n",
    "a1=np.arange(10)\n",
    "print(a1)\n",
    "a1.shape\n"
   ]
  },
  {
   "cell_type": "code",
   "execution_count": 179,
   "id": "8272013a-b3f3-49d5-814a-1edca0ac08a5",
   "metadata": {},
   "outputs": [
    {
     "name": "stdout",
     "output_type": "stream",
     "text": [
      "[[ 0  1  2  3  4]\n",
      " [ 5  6  7  8  9]\n",
      " [10 11 12 13 14]]\n"
     ]
    },
    {
     "data": {
      "text/plain": [
       "(3, 5)"
      ]
     },
     "execution_count": 179,
     "metadata": {},
     "output_type": "execute_result"
    }
   ],
   "source": [
    "import numpy as np\n",
    "a2=np.arange(15).reshape(3,5)\n",
    "print(a2)\n",
    "a2.shape"
   ]
  },
  {
   "cell_type": "code",
   "execution_count": 183,
   "id": "988f6f5f-1476-41b4-a830-05d6baa63d0a",
   "metadata": {},
   "outputs": [
    {
     "name": "stdout",
     "output_type": "stream",
     "text": [
      "[[[[ 0  1]\n",
      "   [ 2  3]]\n",
      "\n",
      "  [[ 4  5]\n",
      "   [ 6  7]]]\n",
      "\n",
      "\n",
      " [[[ 8  9]\n",
      "   [10 11]]\n",
      "\n",
      "  [[12 13]\n",
      "   [14 15]]]]\n"
     ]
    },
    {
     "data": {
      "text/plain": [
       "(2, 2, 2, 2)"
      ]
     },
     "execution_count": 183,
     "metadata": {},
     "output_type": "execute_result"
    }
   ],
   "source": [
    "import numpy as np\n",
    "a3=np.arange(16).reshape(2,2,2,2)\n",
    "print(a3)\n",
    "a3.shape"
   ]
  },
  {
   "cell_type": "markdown",
   "id": "ab9940f3-8878-4241-9793-221d86fca9a2",
   "metadata": {},
   "source": [
    "<h1>ndim Tell about the dimension of array</h1>"
   ]
  },
  {
   "cell_type": "code",
   "execution_count": 186,
   "id": "1be87c2e-be41-4d3e-96b6-6cae4c228366",
   "metadata": {},
   "outputs": [
    {
     "name": "stdout",
     "output_type": "stream",
     "text": [
      "[0 1 2 3 4 5 6 7 8 9]\n"
     ]
    },
    {
     "data": {
      "text/plain": [
       "1"
      ]
     },
     "execution_count": 186,
     "metadata": {},
     "output_type": "execute_result"
    }
   ],
   "source": [
    "import numpy as np\n",
    "a1=np.arange(10)\n",
    "print(a1)\n",
    "a1.ndim"
   ]
  },
  {
   "cell_type": "code",
   "execution_count": 188,
   "id": "ab2b1f2b-e89e-4830-8f81-44652cea7049",
   "metadata": {},
   "outputs": [
    {
     "name": "stdout",
     "output_type": "stream",
     "text": [
      "[[ 0  1  2  3  4]\n",
      " [ 5  6  7  8  9]\n",
      " [10 11 12 13 14]]\n"
     ]
    },
    {
     "data": {
      "text/plain": [
       "2"
      ]
     },
     "execution_count": 188,
     "metadata": {},
     "output_type": "execute_result"
    }
   ],
   "source": [
    "import numpy as np\n",
    "a2=np.arange(15).reshape(3,5)\n",
    "print(a2)\n",
    "a2.ndim"
   ]
  },
  {
   "cell_type": "code",
   "execution_count": 190,
   "id": "48f58454-80cc-40e1-ba2b-a9cf60e5834c",
   "metadata": {},
   "outputs": [
    {
     "name": "stdout",
     "output_type": "stream",
     "text": [
      "[[[0 1]\n",
      "  [2 3]]\n",
      "\n",
      " [[4 5]\n",
      "  [6 7]]]\n"
     ]
    },
    {
     "data": {
      "text/plain": [
       "3"
      ]
     },
     "execution_count": 190,
     "metadata": {},
     "output_type": "execute_result"
    }
   ],
   "source": [
    "import numpy as np\n",
    "a3=np.arange(8).reshape(2,2,2)\n",
    "print(a3)\n",
    "a3.ndim"
   ]
  },
  {
   "cell_type": "markdown",
   "id": "731dc9fb-8228-42ef-b360-de801b3c6daa",
   "metadata": {},
   "source": [
    "<h1>Size will tell us about size of array how many element are present in array</h1>"
   ]
  },
  {
   "cell_type": "code",
   "execution_count": 197,
   "id": "206e7ec8-a6ed-4c1d-9c64-916a71817610",
   "metadata": {},
   "outputs": [
    {
     "name": "stdout",
     "output_type": "stream",
     "text": [
      "[0 1 2 3 4 5 6 7 8 9]\n"
     ]
    },
    {
     "data": {
      "text/plain": [
       "10"
      ]
     },
     "execution_count": 197,
     "metadata": {},
     "output_type": "execute_result"
    }
   ],
   "source": [
    "import numpy as np\n",
    "b=np.arange(10)\n",
    "print(b)\n",
    "b.size"
   ]
  },
  {
   "cell_type": "code",
   "execution_count": 207,
   "id": "b17d0bec-1351-4d54-8c05-bf6f237fdc76",
   "metadata": {},
   "outputs": [
    {
     "name": "stdout",
     "output_type": "stream",
     "text": [
      "[[ 0  1  2  3]\n",
      " [ 4  5  6  7]\n",
      " [ 8  9 10 11]]\n"
     ]
    },
    {
     "data": {
      "text/plain": [
       "12"
      ]
     },
     "execution_count": 207,
     "metadata": {},
     "output_type": "execute_result"
    }
   ],
   "source": [
    "import numpy as np\n",
    "b1=np.arange(12).reshape(3,4)\n",
    "print(b1)\n",
    "b1.size"
   ]
  },
  {
   "cell_type": "markdown",
   "id": "8608f341-d667-4c46-8c61-4ce07bdfd75f",
   "metadata": {},
   "source": [
    "<h1>Item size will tell how much size array have means how many byte it occupied</h1>"
   ]
  },
  {
   "cell_type": "code",
   "execution_count": 224,
   "id": "caca6d9f-95d3-4324-ab47-c674ce210597",
   "metadata": {},
   "outputs": [
    {
     "name": "stdout",
     "output_type": "stream",
     "text": [
      "[0 1 2 3 4 5 6 7 8 9]\n"
     ]
    },
    {
     "data": {
      "text/plain": [
       "4"
      ]
     },
     "execution_count": 224,
     "metadata": {},
     "output_type": "execute_result"
    }
   ],
   "source": [
    "import numpy as np\n",
    "c=np.arange(10,dtype =np.int32)\n",
    "print(c)\n",
    "c.itemsize"
   ]
  },
  {
   "cell_type": "code",
   "execution_count": 226,
   "id": "8480828d-2108-4aa9-8e2a-7842778da146",
   "metadata": {},
   "outputs": [
    {
     "name": "stdout",
     "output_type": "stream",
     "text": [
      "[[ 0  1  2  3]\n",
      " [ 4  5  6  7]\n",
      " [ 8  9 10 11]]\n"
     ]
    },
    {
     "data": {
      "text/plain": [
       "8"
      ]
     },
     "execution_count": 226,
     "metadata": {},
     "output_type": "execute_result"
    }
   ],
   "source": [
    "import numpy as np\n",
    "c1=np.arange(12,dtype=np.int64).reshape(3,4)\n",
    "print(c1)\n",
    "c1.itemsize"
   ]
  },
  {
   "cell_type": "markdown",
   "id": "58a2fbdd-15b7-4305-95a2-ea8c28bccbdf",
   "metadata": {},
   "source": [
    "<h1>\n",
    "    dtype tell about datatype\n",
    "</h1>"
   ]
  },
  {
   "cell_type": "code",
   "execution_count": 249,
   "id": "7b8ff31c-e21c-4e1f-ac58-51ee312d008b",
   "metadata": {},
   "outputs": [
    {
     "name": "stdout",
     "output_type": "stream",
     "text": [
      "[        0         1         2 ... 111111109 111111110 111111111]\n"
     ]
    },
    {
     "data": {
      "text/plain": [
       "dtype('int32')"
      ]
     },
     "execution_count": 249,
     "metadata": {},
     "output_type": "execute_result"
    }
   ],
   "source": [
    "import numpy as np\n",
    "d=np.arange(111111112)\n",
    "print(d)\n",
    "d.dtype"
   ]
  },
  {
   "cell_type": "code",
   "execution_count": 251,
   "id": "3acd8bc9-38a8-431c-bbf6-04883b34af43",
   "metadata": {},
   "outputs": [
    {
     "name": "stdout",
     "output_type": "stream",
     "text": [
      "[ 0.  1.  2.  3.  4.  5.  6.  7.  8.  9. 10. 11.]\n"
     ]
    },
    {
     "data": {
      "text/plain": [
       "dtype('float64')"
      ]
     },
     "execution_count": 251,
     "metadata": {},
     "output_type": "execute_result"
    }
   ],
   "source": [
    "import numpy as np\n",
    "d1=np.arange(12,dtype=float)\n",
    "print(d1)\n",
    "d1.dtype"
   ]
  },
  {
   "cell_type": "markdown",
   "id": "07bf7116-9436-4e67-bb73-0d406f2189df",
   "metadata": {},
   "source": [
    "<h1>Changing datatype</h1>"
   ]
  },
  {
   "cell_type": "code",
   "execution_count": 260,
   "id": "38e14503-32c4-4506-8c93-68ff1f9582b2",
   "metadata": {},
   "outputs": [
    {
     "name": "stdout",
     "output_type": "stream",
     "text": [
      "[[ 0  1  2  3]\n",
      " [ 4  5  6  7]\n",
      " [ 8  9 10 11]]\n"
     ]
    },
    {
     "data": {
      "text/plain": [
       "array([[ 0,  1,  2,  3],\n",
       "       [ 4,  5,  6,  7],\n",
       "       [ 8,  9, 10, 11]])"
      ]
     },
     "execution_count": 260,
     "metadata": {},
     "output_type": "execute_result"
    }
   ],
   "source": [
    "import numpy as np\n",
    "d1=np.arange(12,dtype=np.int64).reshape(3,4)\n",
    "print(d1)\n",
    "d1.astype(np.int32)\n"
   ]
  },
  {
   "cell_type": "markdown",
   "id": "8c5410de-7f88-4a6d-ae74-51ccea0c5f82",
   "metadata": {},
   "source": [
    "<h1>Mathematical Function in Numpy</h1>"
   ]
  },
  {
   "cell_type": "markdown",
   "id": "6bc69c61-5a45-4477-99b6-43658f1d9dbe",
   "metadata": {},
   "source": [
    "<h1>max,min,sum,pro,dot</h1>"
   ]
  },
  {
   "cell_type": "code",
   "execution_count": 272,
   "id": "89029ecb-1472-4aa8-8ec3-bcc7ef87d708",
   "metadata": {},
   "outputs": [
    {
     "name": "stdout",
     "output_type": "stream",
     "text": [
      "[[ 0  1  2  3]\n",
      " [ 4  5  6  7]\n",
      " [ 8  9 10 11]]\n"
     ]
    },
    {
     "data": {
      "text/plain": [
       "11"
      ]
     },
     "execution_count": 272,
     "metadata": {},
     "output_type": "execute_result"
    }
   ],
   "source": [
    "import numpy as np\n",
    "f=np.arange(12).reshape(3,4)\n",
    "print(f)\n",
    "np.max(f)\n"
   ]
  },
  {
   "cell_type": "code",
   "execution_count": 274,
   "id": "7cef56cd-f698-47d4-beec-8dcc68c6150b",
   "metadata": {},
   "outputs": [
    {
     "data": {
      "text/plain": [
       "array([ 3,  7, 11])"
      ]
     },
     "execution_count": 274,
     "metadata": {},
     "output_type": "execute_result"
    }
   ],
   "source": [
    "# for finding max in every row ,use axis=1,for col,use axis=0\n",
    "np.max(f,axis=1)"
   ]
  },
  {
   "cell_type": "code",
   "execution_count": 276,
   "id": "6a9f9eba-b9f1-46e8-81ab-70fcb0eeaefc",
   "metadata": {},
   "outputs": [
    {
     "data": {
      "text/plain": [
       "0"
      ]
     },
     "execution_count": 276,
     "metadata": {},
     "output_type": "execute_result"
    }
   ],
   "source": [
    "np.min(f)"
   ]
  },
  {
   "cell_type": "code",
   "execution_count": 278,
   "id": "6172afef-af90-4df3-ad7a-9fe5b609cb66",
   "metadata": {},
   "outputs": [
    {
     "data": {
      "text/plain": [
       "array([0, 4, 8])"
      ]
     },
     "execution_count": 278,
     "metadata": {},
     "output_type": "execute_result"
    }
   ],
   "source": [
    "np.min(f,axis=1)"
   ]
  },
  {
   "cell_type": "code",
   "execution_count": 290,
   "id": "1719cbae-60e5-4fc9-aa52-ea0d4e3d46bd",
   "metadata": {},
   "outputs": [
    {
     "data": {
      "text/plain": [
       "66"
      ]
     },
     "execution_count": 290,
     "metadata": {},
     "output_type": "execute_result"
    }
   ],
   "source": [
    "np.sum(f)"
   ]
  },
  {
   "cell_type": "code",
   "execution_count": 282,
   "id": "d7d0a512-c470-409c-adcd-94690298c2d3",
   "metadata": {},
   "outputs": [
    {
     "name": "stdout",
     "output_type": "stream",
     "text": [
      "[[ 0  1  2  3]\n",
      " [ 4  5  6  7]\n",
      " [ 8  9 10 11]]\n"
     ]
    }
   ],
   "source": [
    "import numpy as np\n",
    "f1=np.arange(12).reshape(3,4)\n",
    "print(f1)\n"
   ]
  },
  {
   "cell_type": "code",
   "execution_count": 288,
   "id": "5c788e84-56d9-4675-9ae9-60259cb94454",
   "metadata": {},
   "outputs": [
    {
     "data": {
      "text/plain": [
       "66"
      ]
     },
     "execution_count": 288,
     "metadata": {},
     "output_type": "execute_result"
    }
   ],
   "source": [
    "np.sum(f1)"
   ]
  },
  {
   "cell_type": "code",
   "execution_count": 292,
   "id": "50eab061-b96c-45f0-9174-05c820944afe",
   "metadata": {},
   "outputs": [
    {
     "data": {
      "text/plain": [
       "132"
      ]
     },
     "execution_count": 292,
     "metadata": {},
     "output_type": "execute_result"
    }
   ],
   "source": [
    "np.sum(f1+f)"
   ]
  },
  {
   "cell_type": "code",
   "execution_count": 294,
   "id": "a055fddd-1987-413b-adb2-b2586e58d2ad",
   "metadata": {},
   "outputs": [
    {
     "data": {
      "text/plain": [
       "array([12, 44, 76])"
      ]
     },
     "execution_count": 294,
     "metadata": {},
     "output_type": "execute_result"
    }
   ],
   "source": [
    "np.sum(f+f1,axis=1) # for finding sum of every row"
   ]
  },
  {
   "cell_type": "code",
   "execution_count": 308,
   "id": "cbc97c26-54f3-4983-9647-73a23aa25c72",
   "metadata": {},
   "outputs": [
    {
     "data": {
      "text/plain": [
       "array([  0,  45, 120, 231])"
      ]
     },
     "execution_count": 308,
     "metadata": {},
     "output_type": "execute_result"
    }
   ],
   "source": [
    "np.prod(f,axis=1)\n",
    "np.prod(f,axis=0)"
   ]
  },
  {
   "cell_type": "code",
   "execution_count": 312,
   "id": "46f992f9-76d4-4b45-8bff-c43be84ac353",
   "metadata": {},
   "outputs": [
    {
     "name": "stdout",
     "output_type": "stream",
     "text": [
      "[[ 1  2  3  4]\n",
      " [ 5  6  7  8]\n",
      " [ 9 10 11 12]]\n"
     ]
    }
   ],
   "source": [
    "import numpy as np\n",
    "dot=np.arange(1,13).reshape(3,4)\n",
    "print(dot)"
   ]
  },
  {
   "cell_type": "code",
   "execution_count": 314,
   "id": "ce976b36-121f-46cb-b27e-294a2dbdb670",
   "metadata": {},
   "outputs": [
    {
     "name": "stdout",
     "output_type": "stream",
     "text": [
      "[[ 1  2  3]\n",
      " [ 4  5  6]\n",
      " [ 7  8  9]\n",
      " [10 11 12]]\n"
     ]
    }
   ],
   "source": [
    "import numpy as np\n",
    "dot1=np.arange(1,13).reshape(4,3)\n",
    "print(dot1)"
   ]
  },
  {
   "cell_type": "code",
   "execution_count": 316,
   "id": "458601f9-8bee-4f53-a763-08c3694b8baf",
   "metadata": {},
   "outputs": [
    {
     "data": {
      "text/plain": [
       "array([[ 70,  80,  90],\n",
       "       [158, 184, 210],\n",
       "       [246, 288, 330]])"
      ]
     },
     "execution_count": 316,
     "metadata": {},
     "output_type": "execute_result"
    }
   ],
   "source": [
    "np.dot(dot,dot1)"
   ]
  },
  {
   "cell_type": "markdown",
   "id": "f1c69c45-abd1-4707-969f-5e02221b5958",
   "metadata": {},
   "source": [
    "<h1>Mean, Median, Std, Var</h1>"
   ]
  },
  {
   "cell_type": "code",
   "execution_count": 3,
   "id": "3a15d50d-c289-4581-ad15-9768a3b7e826",
   "metadata": {},
   "outputs": [
    {
     "name": "stdout",
     "output_type": "stream",
     "text": [
      "[[ 0  1  2  3]\n",
      " [ 4  5  6  7]\n",
      " [ 8  9 10 11]]\n"
     ]
    }
   ],
   "source": [
    "import numpy as np\n",
    "shah=np.arange(12).reshape(3,4)\n",
    "print(shah)"
   ]
  },
  {
   "cell_type": "code",
   "execution_count": 5,
   "id": "2f4f74b5-b82f-45af-acd2-a7dcabf8c3d3",
   "metadata": {},
   "outputs": [
    {
     "data": {
      "text/plain": [
       "5.5"
      ]
     },
     "execution_count": 5,
     "metadata": {},
     "output_type": "execute_result"
    }
   ],
   "source": [
    "np.mean(shah)"
   ]
  },
  {
   "cell_type": "code",
   "execution_count": 7,
   "id": "f905c620-cb1f-4d24-90d4-014eeb5bc85e",
   "metadata": {},
   "outputs": [
    {
     "data": {
      "text/plain": [
       "array([1.5, 5.5, 9.5])"
      ]
     },
     "execution_count": 7,
     "metadata": {},
     "output_type": "execute_result"
    }
   ],
   "source": [
    "np.mean(shah,axis=1)"
   ]
  },
  {
   "cell_type": "code",
   "execution_count": 9,
   "id": "40058e9a-124f-4c0e-8a7b-449556aec26a",
   "metadata": {},
   "outputs": [
    {
     "data": {
      "text/plain": [
       "array([4., 5., 6., 7.])"
      ]
     },
     "execution_count": 9,
     "metadata": {},
     "output_type": "execute_result"
    }
   ],
   "source": [
    "np.mean(shah,axis=0)"
   ]
  },
  {
   "cell_type": "code",
   "execution_count": 13,
   "id": "b4beeca1-634b-4d41-b68d-ae421cc8bf3a",
   "metadata": {},
   "outputs": [
    {
     "data": {
      "text/plain": [
       "5.5"
      ]
     },
     "execution_count": 13,
     "metadata": {},
     "output_type": "execute_result"
    }
   ],
   "source": [
    "np.median(shah)"
   ]
  },
  {
   "cell_type": "code",
   "execution_count": 15,
   "id": "73636f46-bd82-47fa-a891-48e34f64e3b4",
   "metadata": {},
   "outputs": [
    {
     "data": {
      "text/plain": [
       "array([1.5, 5.5, 9.5])"
      ]
     },
     "execution_count": 15,
     "metadata": {},
     "output_type": "execute_result"
    }
   ],
   "source": [
    "np.median(shah,axis=1)"
   ]
  },
  {
   "cell_type": "code",
   "execution_count": 17,
   "id": "1d1cac8b-90a8-4cec-b25d-b56ce6c4f186",
   "metadata": {},
   "outputs": [
    {
     "data": {
      "text/plain": [
       "3.452052529534663"
      ]
     },
     "execution_count": 17,
     "metadata": {},
     "output_type": "execute_result"
    }
   ],
   "source": [
    "np.std(shah)"
   ]
  },
  {
   "cell_type": "code",
   "execution_count": 19,
   "id": "a7b9c80a-4510-467f-9533-2e533e457d8b",
   "metadata": {},
   "outputs": [
    {
     "data": {
      "text/plain": [
       "11.916666666666666"
      ]
     },
     "execution_count": 19,
     "metadata": {},
     "output_type": "execute_result"
    }
   ],
   "source": [
    "np.var(shah)"
   ]
  },
  {
   "cell_type": "code",
   "execution_count": 21,
   "id": "3eb25d02-5cfd-4700-af8f-76fcd3a168da",
   "metadata": {},
   "outputs": [
    {
     "data": {
      "text/plain": [
       "array([1.25, 1.25, 1.25])"
      ]
     },
     "execution_count": 21,
     "metadata": {},
     "output_type": "execute_result"
    }
   ],
   "source": [
    "np.var(shah,axis=1)"
   ]
  },
  {
   "cell_type": "markdown",
   "id": "6d34fba6-b166-4f5e-8e48-35796b84c573",
   "metadata": {},
   "source": [
    "<h1>Trigonometry Function</h1>"
   ]
  },
  {
   "cell_type": "code",
   "execution_count": 24,
   "id": "71d31fc3-eec2-41e6-8d6c-faa8f11d8c46",
   "metadata": {},
   "outputs": [
    {
     "data": {
      "text/plain": [
       "array([[ 0.        ,  0.84147098,  0.90929743,  0.14112001],\n",
       "       [-0.7568025 , -0.95892427, -0.2794155 ,  0.6569866 ],\n",
       "       [ 0.98935825,  0.41211849, -0.54402111, -0.99999021]])"
      ]
     },
     "execution_count": 24,
     "metadata": {},
     "output_type": "execute_result"
    }
   ],
   "source": [
    "np.sin(shah)"
   ]
  },
  {
   "cell_type": "code",
   "execution_count": 26,
   "id": "b4f7058e-fadf-4d96-801f-590321f46fcf",
   "metadata": {},
   "outputs": [
    {
     "data": {
      "text/plain": [
       "array([[ 1.        ,  0.54030231, -0.41614684, -0.9899925 ],\n",
       "       [-0.65364362,  0.28366219,  0.96017029,  0.75390225],\n",
       "       [-0.14550003, -0.91113026, -0.83907153,  0.0044257 ]])"
      ]
     },
     "execution_count": 26,
     "metadata": {},
     "output_type": "execute_result"
    }
   ],
   "source": [
    "np.cos(shah)\n"
   ]
  },
  {
   "cell_type": "code",
   "execution_count": 30,
   "id": "3ca70bd0-aaf4-45dd-aca8-61c7299989ec",
   "metadata": {},
   "outputs": [
    {
     "name": "stderr",
     "output_type": "stream",
     "text": [
      "C:\\Users\\hamma\\AppData\\Local\\Temp\\ipykernel_12972\\1574342300.py:1: RuntimeWarning: divide by zero encountered in log\n",
      "  np.log(shah)\n"
     ]
    },
    {
     "data": {
      "text/plain": [
       "array([[      -inf, 0.        , 0.69314718, 1.09861229],\n",
       "       [1.38629436, 1.60943791, 1.79175947, 1.94591015],\n",
       "       [2.07944154, 2.19722458, 2.30258509, 2.39789527]])"
      ]
     },
     "execution_count": 30,
     "metadata": {},
     "output_type": "execute_result"
    }
   ],
   "source": [
    "np.log(shah)"
   ]
  },
  {
   "cell_type": "code",
   "execution_count": 32,
   "id": "884c1c3c-500e-47a6-aff1-ee94f16d782a",
   "metadata": {},
   "outputs": [
    {
     "data": {
      "text/plain": [
       "array([[1.00000000e+00, 2.71828183e+00, 7.38905610e+00, 2.00855369e+01],\n",
       "       [5.45981500e+01, 1.48413159e+02, 4.03428793e+02, 1.09663316e+03],\n",
       "       [2.98095799e+03, 8.10308393e+03, 2.20264658e+04, 5.98741417e+04]])"
      ]
     },
     "execution_count": 32,
     "metadata": {},
     "output_type": "execute_result"
    }
   ],
   "source": [
    "np.exp(shah)"
   ]
  },
  {
   "cell_type": "markdown",
   "id": "a331cbbc-8bef-4027-a108-3b020465a453",
   "metadata": {},
   "source": [
    "<h1>round floor ceil</h1>"
   ]
  },
  {
   "cell_type": "code",
   "execution_count": 43,
   "id": "a34c36c7-e3d5-44f7-9cfc-4ecd8aac813c",
   "metadata": {},
   "outputs": [
    {
     "name": "stdout",
     "output_type": "stream",
     "text": [
      "[3.67900607 2.61829733 9.67406266 9.90298949 4.06764446 6.52160768\n",
      " 6.54589598 0.46386408 2.38931122 1.68599402]\n"
     ]
    },
    {
     "data": {
      "text/plain": [
       "array([ 4.,  3., 10., 10.,  4.,  7.,  7.,  0.,  2.,  2.])"
      ]
     },
     "execution_count": 43,
     "metadata": {},
     "output_type": "execute_result"
    }
   ],
   "source": [
    "import numpy as np\n",
    "syed=np.random.random(10)*10\n",
    "print(syed)\n",
    "np.round(syed)"
   ]
  },
  {
   "cell_type": "code",
   "execution_count": 45,
   "id": "b0a201c2-38eb-4e3c-8eb1-8a4afbfb3079",
   "metadata": {},
   "outputs": [
    {
     "data": {
      "text/plain": [
       "array([3., 2., 9., 9., 4., 6., 6., 0., 2., 1.])"
      ]
     },
     "execution_count": 45,
     "metadata": {},
     "output_type": "execute_result"
    }
   ],
   "source": [
    "np.floor(syed)"
   ]
  },
  {
   "cell_type": "code",
   "execution_count": 47,
   "id": "552835db-3929-4784-a571-3e856bba45ac",
   "metadata": {},
   "outputs": [
    {
     "data": {
      "text/plain": [
       "array([ 4.,  3., 10., 10.,  5.,  7.,  7.,  1.,  3.,  2.])"
      ]
     },
     "execution_count": 47,
     "metadata": {},
     "output_type": "execute_result"
    }
   ],
   "source": [
    "np.ceil(syed)"
   ]
  },
  {
   "cell_type": "markdown",
   "id": "40f29e79-24db-4e9a-8a3f-9dfb34e6fe18",
   "metadata": {},
   "source": [
    "<h1>Indexing and slicing</h1>"
   ]
  },
  {
   "cell_type": "code",
   "execution_count": 56,
   "id": "b7c6aec7-fba1-4af8-947b-f228867cac80",
   "metadata": {},
   "outputs": [
    {
     "name": "stdout",
     "output_type": "stream",
     "text": [
      "[ 0  1  2  3  4  5  6  7  8  9 10 11]\n"
     ]
    }
   ],
   "source": [
    "import numpy as np\n",
    "sh=np.arange(12)\n",
    "print(sh)"
   ]
  },
  {
   "cell_type": "code",
   "execution_count": 62,
   "id": "9b78feb5-243d-42ff-89d0-18a86e915eb5",
   "metadata": {},
   "outputs": [
    {
     "data": {
      "text/plain": [
       "5"
      ]
     },
     "execution_count": 62,
     "metadata": {},
     "output_type": "execute_result"
    }
   ],
   "source": [
    "sh[5]"
   ]
  },
  {
   "cell_type": "code",
   "execution_count": 66,
   "id": "3a038e0d-d148-4abb-8f72-b85a6d220dc0",
   "metadata": {},
   "outputs": [
    {
     "name": "stdout",
     "output_type": "stream",
     "text": [
      "[[ 0  1  2  3]\n",
      " [ 4  5  6  7]\n",
      " [ 8  9 10 11]]\n"
     ]
    }
   ],
   "source": [
    "import numpy as np\n",
    "sh1=np.arange(12).reshape (3,4)\n",
    "print(sh1)"
   ]
  },
  {
   "cell_type": "code",
   "execution_count": 90,
   "id": "4e2176c1-2531-48ac-afe1-5cb375462c5c",
   "metadata": {},
   "outputs": [
    {
     "data": {
      "text/plain": [
       "array([[6]])"
      ]
     },
     "execution_count": 90,
     "metadata": {},
     "output_type": "execute_result"
    }
   ],
   "source": [
    "sh1[1:3:2,2:3:2]"
   ]
  },
  {
   "cell_type": "code",
   "execution_count": 92,
   "id": "a17ecc53-835c-443b-ade6-ee4cb123903f",
   "metadata": {},
   "outputs": [
    {
     "data": {
      "text/plain": [
       "6"
      ]
     },
     "execution_count": 92,
     "metadata": {},
     "output_type": "execute_result"
    }
   ],
   "source": [
    "sh1[1,2]"
   ]
  },
  {
   "cell_type": "code",
   "execution_count": 94,
   "id": "50cbe5e9-62ff-4b72-b5c8-75d81541df6c",
   "metadata": {},
   "outputs": [
    {
     "data": {
      "text/plain": [
       "11"
      ]
     },
     "execution_count": 94,
     "metadata": {},
     "output_type": "execute_result"
    }
   ],
   "source": [
    "sh1[2,3]"
   ]
  },
  {
   "cell_type": "code",
   "execution_count": 100,
   "id": "c36018c2-7e0d-4336-9c9e-546b7ef03fcf",
   "metadata": {},
   "outputs": [
    {
     "data": {
      "text/plain": [
       "8"
      ]
     },
     "execution_count": 100,
     "metadata": {},
     "output_type": "execute_result"
    }
   ],
   "source": [
    "sh1[2,0]"
   ]
  },
  {
   "cell_type": "code",
   "execution_count": 106,
   "id": "b4b1f856-acc8-4e7a-ac7b-841f59322475",
   "metadata": {},
   "outputs": [
    {
     "name": "stdout",
     "output_type": "stream",
     "text": [
      "[[[ 0  1]\n",
      "  [ 2  3]]\n",
      "\n",
      " [[ 4  5]\n",
      "  [ 6  7]]\n",
      "\n",
      " [[ 8  9]\n",
      "  [10 11]]]\n"
     ]
    }
   ],
   "source": [
    "import numpy as np\n",
    "sh2=np.arange(12).reshape(3,2,2)\n",
    "print(sh2)"
   ]
  },
  {
   "cell_type": "code",
   "execution_count": 108,
   "id": "ff396768-b56d-40af-ad7e-fdb45402687e",
   "metadata": {},
   "outputs": [
    {
     "data": {
      "text/plain": [
       "3"
      ]
     },
     "execution_count": 108,
     "metadata": {},
     "output_type": "execute_result"
    }
   ],
   "source": [
    "sh2[0,1,1]"
   ]
  },
  {
   "cell_type": "code",
   "execution_count": 110,
   "id": "a158ffc7-c4f0-47ef-af4c-607ae2de66b2",
   "metadata": {},
   "outputs": [
    {
     "data": {
      "text/plain": [
       "array([4, 5])"
      ]
     },
     "execution_count": 110,
     "metadata": {},
     "output_type": "execute_result"
    }
   ],
   "source": [
    "sh2[1,0,0:]"
   ]
  },
  {
   "cell_type": "code",
   "execution_count": 112,
   "id": "2682426a-261e-4525-9f29-d5b1973da60d",
   "metadata": {},
   "outputs": [
    {
     "name": "stdout",
     "output_type": "stream",
     "text": [
      "[[[ 0  1  2]\n",
      "  [ 3  4  5]\n",
      "  [ 6  7  8]]\n",
      "\n",
      " [[ 9 10 11]\n",
      "  [12 13 14]\n",
      "  [15 16 17]]\n",
      "\n",
      " [[18 19 20]\n",
      "  [21 22 23]\n",
      "  [24 25 26]]]\n"
     ]
    }
   ],
   "source": [
    "import numpy as np\n",
    "sh3=np.arange(27).reshape(3,3,3)\n",
    "print(sh3)"
   ]
  },
  {
   "cell_type": "code",
   "execution_count": 116,
   "id": "cb50e240-170d-4255-aed1-8cd7448bba21",
   "metadata": {},
   "outputs": [
    {
     "data": {
      "text/plain": [
       "array([[ 9, 10, 11],\n",
       "       [12, 13, 14],\n",
       "       [15, 16, 17]])"
      ]
     },
     "execution_count": 116,
     "metadata": {},
     "output_type": "execute_result"
    }
   ],
   "source": [
    "sh3[1]"
   ]
  },
  {
   "cell_type": "code",
   "execution_count": 118,
   "id": "1d50e8c7-8579-4d83-98f8-1fdd8b46c659",
   "metadata": {},
   "outputs": [
    {
     "data": {
      "text/plain": [
       "array([[[ 0,  1,  2],\n",
       "        [ 3,  4,  5],\n",
       "        [ 6,  7,  8]],\n",
       "\n",
       "       [[18, 19, 20],\n",
       "        [21, 22, 23],\n",
       "        [24, 25, 26]]])"
      ]
     },
     "execution_count": 118,
     "metadata": {},
     "output_type": "execute_result"
    }
   ],
   "source": [
    "sh3[::2]"
   ]
  },
  {
   "cell_type": "code",
   "execution_count": 122,
   "id": "0e39b911-07f7-4222-a132-a8ee2596f2b2",
   "metadata": {},
   "outputs": [
    {
     "data": {
      "text/plain": [
       "array([3, 4, 5])"
      ]
     },
     "execution_count": 122,
     "metadata": {},
     "output_type": "execute_result"
    }
   ],
   "source": [
    "sh3[0,1,0::]"
   ]
  },
  {
   "cell_type": "code",
   "execution_count": 124,
   "id": "c09d3856-7cb3-4075-9b8b-411515e07cc7",
   "metadata": {},
   "outputs": [
    {
     "data": {
      "text/plain": [
       "array([3, 4, 5])"
      ]
     },
     "execution_count": 124,
     "metadata": {},
     "output_type": "execute_result"
    }
   ],
   "source": [
    "sh3[0,1,0:]"
   ]
  },
  {
   "cell_type": "code",
   "execution_count": 126,
   "id": "766dc789-8d23-46ca-a273-7ab3d03acae2",
   "metadata": {},
   "outputs": [
    {
     "data": {
      "text/plain": [
       "16"
      ]
     },
     "execution_count": 126,
     "metadata": {},
     "output_type": "execute_result"
    }
   ],
   "source": [
    "sh3[1,2,1]"
   ]
  },
  {
   "cell_type": "code",
   "execution_count": 132,
   "id": "56284244-d772-4e81-a055-f880846f2e84",
   "metadata": {},
   "outputs": [
    {
     "data": {
      "text/plain": [
       "array([[22, 23],\n",
       "       [25, 26]])"
      ]
     },
     "execution_count": 132,
     "metadata": {},
     "output_type": "execute_result"
    }
   ],
   "source": [
    "sh3[2,1:,1:]"
   ]
  },
  {
   "cell_type": "code",
   "execution_count": 144,
   "id": "6cb3fdc6-43ed-4c5f-92ad-b3285c875971",
   "metadata": {},
   "outputs": [
    {
     "data": {
      "text/plain": [
       "array([[ 0,  2],\n",
       "       [18, 20]])"
      ]
     },
     "execution_count": 144,
     "metadata": {},
     "output_type": "execute_result"
    }
   ],
   "source": [
    "sh3[0::2,0,0::2]"
   ]
  },
  {
   "cell_type": "markdown",
   "id": "79213f40-dbaf-4809-bc97-44662f078580",
   "metadata": {},
   "source": [
    "<h1>Iteratig</h1>"
   ]
  },
  {
   "cell_type": "code",
   "execution_count": 149,
   "id": "91f4f261-760f-4856-919e-881b376d9b87",
   "metadata": {},
   "outputs": [
    {
     "name": "stdout",
     "output_type": "stream",
     "text": [
      "0\n",
      "1\n",
      "2\n",
      "3\n",
      "4\n",
      "5\n",
      "6\n",
      "7\n",
      "8\n",
      "9\n",
      "10\n",
      "11\n"
     ]
    }
   ],
   "source": [
    "for i in sh:\n",
    "    print(i)"
   ]
  },
  {
   "cell_type": "code",
   "execution_count": 153,
   "id": "0899e428-0e90-463d-ac4b-2ddc593f4b54",
   "metadata": {},
   "outputs": [
    {
     "name": "stdout",
     "output_type": "stream",
     "text": [
      "[0 1 2 3]\n",
      "[4 5 6 7]\n",
      "[ 8  9 10 11]\n"
     ]
    }
   ],
   "source": [
    "for i in sh1:\n",
    "    print(i)\n",
    "    "
   ]
  },
  {
   "cell_type": "code",
   "execution_count": 155,
   "id": "dd89934b-4380-49b0-b895-0c85d6d1596e",
   "metadata": {},
   "outputs": [
    {
     "name": "stdout",
     "output_type": "stream",
     "text": [
      "[[0 1]\n",
      " [2 3]]\n",
      "[[4 5]\n",
      " [6 7]]\n",
      "[[ 8  9]\n",
      " [10 11]]\n"
     ]
    }
   ],
   "source": [
    "for i in sh2:\n",
    "    print(i)"
   ]
  },
  {
   "cell_type": "code",
   "execution_count": 173,
   "id": "4655edbf-411b-468a-aaf6-06a1a95fae7f",
   "metadata": {},
   "outputs": [
    {
     "name": "stdout",
     "output_type": "stream",
     "text": [
      "0\n",
      "1\n",
      "2\n",
      "3\n",
      "4\n",
      "5\n",
      "6\n",
      "7\n",
      "8\n",
      "9\n",
      "10\n",
      "11\n"
     ]
    }
   ],
   "source": [
    "for i in np.nditer(sh1):\n",
    "    print(i)"
   ]
  },
  {
   "cell_type": "code",
   "execution_count": 161,
   "id": "37bb6079-4513-4bb8-8208-056bad56eff8",
   "metadata": {},
   "outputs": [
    {
     "data": {
      "text/plain": [
       "array([[ 0,  4,  8],\n",
       "       [ 1,  5,  9],\n",
       "       [ 2,  6, 10],\n",
       "       [ 3,  7, 11]])"
      ]
     },
     "execution_count": 161,
     "metadata": {},
     "output_type": "execute_result"
    }
   ],
   "source": [
    "sh1.T"
   ]
  },
  {
   "cell_type": "code",
   "execution_count": 163,
   "id": "455e09d6-7d2f-40b3-a1e3-00c5687fdc5d",
   "metadata": {},
   "outputs": [
    {
     "data": {
      "text/plain": [
       "array([[[ 0,  4,  8],\n",
       "        [ 2,  6, 10]],\n",
       "\n",
       "       [[ 1,  5,  9],\n",
       "        [ 3,  7, 11]]])"
      ]
     },
     "execution_count": 163,
     "metadata": {},
     "output_type": "execute_result"
    }
   ],
   "source": [
    "sh2.T"
   ]
  },
  {
   "cell_type": "code",
   "execution_count": 185,
   "id": "6df178a0-0c9c-4e12-9878-996a8b4832cc",
   "metadata": {},
   "outputs": [
    {
     "data": {
      "text/plain": [
       "array([[ 0,  1,  2,  3,  0,  1,  2,  3,  0,  1,  2,  3],\n",
       "       [ 4,  5,  6,  7,  4,  5,  6,  7,  4,  5,  6,  7],\n",
       "       [ 8,  9, 10, 11,  8,  9, 10, 11,  8,  9, 10, 11]])"
      ]
     },
     "execution_count": 185,
     "metadata": {},
     "output_type": "execute_result"
    }
   ],
   "source": [
    "import numpy as np\n",
    "hamm1=np.arange(12).reshape(3,4)\n",
    "hamm2=np.arange(12).reshape(3,4)\n",
    "np.hstack((hamm1,hamm2,hamm1))"
   ]
  },
  {
   "cell_type": "code",
   "execution_count": 191,
   "id": "f97aaf66-e599-4254-b509-a2de493df22e",
   "metadata": {},
   "outputs": [
    {
     "data": {
      "text/plain": [
       "array([[ 0,  1,  2,  3],\n",
       "       [ 4,  5,  6,  7],\n",
       "       [ 8,  9, 10, 11],\n",
       "       [ 0,  1,  2,  3],\n",
       "       [ 4,  5,  6,  7],\n",
       "       [ 8,  9, 10, 11],\n",
       "       [ 0,  1,  2,  3],\n",
       "       [ 4,  5,  6,  7],\n",
       "       [ 8,  9, 10, 11],\n",
       "       [ 0,  1,  2,  3],\n",
       "       [ 4,  5,  6,  7],\n",
       "       [ 8,  9, 10, 11]])"
      ]
     },
     "execution_count": 191,
     "metadata": {},
     "output_type": "execute_result"
    }
   ],
   "source": [
    "np.vstack((hamm1,hamm2,hamm1,hamm2))"
   ]
  },
  {
   "cell_type": "code",
   "execution_count": 177,
   "id": "9b38cb02-caf1-4d8e-8462-ea9f9ea95598",
   "metadata": {},
   "outputs": [
    {
     "name": "stdout",
     "output_type": "stream",
     "text": [
      "0\n",
      "1\n",
      "2\n",
      "3\n",
      "4\n",
      "5\n",
      "6\n",
      "7\n",
      "8\n",
      "9\n",
      "10\n",
      "11\n",
      "12\n",
      "13\n",
      "14\n",
      "15\n",
      "16\n",
      "17\n",
      "18\n",
      "19\n",
      "20\n",
      "21\n",
      "22\n",
      "23\n",
      "24\n",
      "25\n",
      "26\n"
     ]
    }
   ],
   "source": [
    "for i in np.nditer(sh3):\n",
    "    print(i)"
   ]
  },
  {
   "cell_type": "code",
   "execution_count": 179,
   "id": "e1dd5589-8db9-437e-80c3-7ce55d0700d8",
   "metadata": {},
   "outputs": [
    {
     "data": {
      "text/plain": [
       "array([ 0,  1,  2,  3,  4,  5,  6,  7,  8,  9, 10, 11, 12, 13, 14, 15, 16,\n",
       "       17, 18, 19, 20, 21, 22, 23, 24, 25, 26])"
      ]
     },
     "execution_count": 179,
     "metadata": {},
     "output_type": "execute_result"
    }
   ],
   "source": [
    "np.ravel(sh3)"
   ]
  },
  {
   "cell_type": "code",
   "execution_count": 193,
   "id": "a761d02a-22b1-4815-85c7-a5390b237ba0",
   "metadata": {},
   "outputs": [
    {
     "data": {
      "text/plain": [
       "[array([[0, 1],\n",
       "        [4, 5],\n",
       "        [8, 9]]),\n",
       " array([[ 2,  3],\n",
       "        [ 6,  7],\n",
       "        [10, 11]])]"
      ]
     },
     "execution_count": 193,
     "metadata": {},
     "output_type": "execute_result"
    }
   ],
   "source": [
    "np.hsplit(hamm1,2)"
   ]
  },
  {
   "cell_type": "code",
   "execution_count": 195,
   "id": "ef332e9f-59a5-4546-b0df-e2983868b0b7",
   "metadata": {},
   "outputs": [
    {
     "data": {
      "text/plain": [
       "[array([[0, 1, 2, 3]]), array([[4, 5, 6, 7]]), array([[ 8,  9, 10, 11]])]"
      ]
     },
     "execution_count": 195,
     "metadata": {},
     "output_type": "execute_result"
    }
   ],
   "source": [
    "np.vsplit(hamm2,3)"
   ]
  },
  {
   "cell_type": "code",
   "execution_count": null,
   "id": "dc28fda7-42ce-4975-9f2a-00841b66a70b",
   "metadata": {},
   "outputs": [],
   "source": []
  },
  {
   "cell_type": "code",
   "execution_count": null,
   "id": "1327e424-1d13-4067-b931-69a6334aa7ff",
   "metadata": {},
   "outputs": [],
   "source": []
  }
 ],
 "metadata": {
  "kernelspec": {
   "display_name": "Python 3 (ipykernel)",
   "language": "python",
   "name": "python3"
  },
  "language_info": {
   "codemirror_mode": {
    "name": "ipython",
    "version": 3
   },
   "file_extension": ".py",
   "mimetype": "text/x-python",
   "name": "python",
   "nbconvert_exporter": "python",
   "pygments_lexer": "ipython3",
   "version": "3.12.7"
  }
 },
 "nbformat": 4,
 "nbformat_minor": 5
}
