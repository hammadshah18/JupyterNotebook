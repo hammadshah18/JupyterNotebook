{
 "cells": [
  {
   "cell_type": "code",
   "execution_count": 11,
   "id": "8e245cb5-efcc-4105-86d4-4be7559f1dbf",
   "metadata": {},
   "outputs": [
    {
     "data": {
      "text/plain": [
       "array([ 1,  2,  3,  4,  5,  6,  7,  8,  9, 10, 11, 12, 13, 14, 15, 16, 17,\n",
       "       18, 19, 20, 21, 22])"
      ]
     },
     "execution_count": 11,
     "metadata": {},
     "output_type": "execute_result"
    }
   ],
   "source": [
    "import numpy as np\n",
    "#a=[1,2,3,4,24,4,3,4]\n",
    "arr=np.arange(1,23)\n",
    "arr"
   ]
  },
  {
   "cell_type": "code",
   "execution_count": 13,
   "id": "3e5e8deb-4a7e-4e7a-9f9a-24ed68d61282",
   "metadata": {},
   "outputs": [
    {
     "data": {
      "text/plain": [
       "array([False, False, False, False, False, False, False, False, False,\n",
       "       False,  True,  True,  True,  True,  True,  True,  True,  True,\n",
       "        True,  True,  True,  True])"
      ]
     },
     "execution_count": 13,
     "metadata": {},
     "output_type": "execute_result"
    }
   ],
   "source": [
    "import numpy as np\n",
    "#a=[1,2,3,4,24,4,3,4]\n",
    "arr=np.arange(1,23)\n",
    "arr>10"
   ]
  },
  {
   "cell_type": "code",
   "execution_count": 21,
   "id": "2a1c5953-e0f7-4b16-a7c4-1a7ae31c68ca",
   "metadata": {},
   "outputs": [
    {
     "data": {
      "text/plain": [
       "array([ 2,  4,  6,  8, 10, 12, 14, 16, 18, 20, 22])"
      ]
     },
     "execution_count": 21,
     "metadata": {},
     "output_type": "execute_result"
    }
   ],
   "source": [
    "import numpy as np\n",
    "#a=[1,2,3,4,24,4,3,4]\n",
    "arr=np.arange(1,23)\n",
    "arr[arr%2==0]\n"
   ]
  },
  {
   "cell_type": "code",
   "execution_count": 27,
   "id": "6da281ec-962d-4f9d-95fd-44777c9c11d9",
   "metadata": {},
   "outputs": [
    {
     "data": {
      "text/plain": [
       "array([ 1,  0,  3,  0,  5,  0,  7,  0,  9,  0, 11,  0, 13,  0, 15,  0, 17,\n",
       "        0, 19,  0, 21,  0])"
      ]
     },
     "execution_count": 27,
     "metadata": {},
     "output_type": "execute_result"
    }
   ],
   "source": [
    "import numpy as np\n",
    "#a=[1,2,3,4,24,4,3,4]\n",
    "arr=np.arange(1,23)\n",
    "arr[arr%2==0]=0\n",
    "arr"
   ]
  },
  {
   "cell_type": "code",
   "execution_count": 29,
   "id": "4f0b1837-5634-415e-8715-bc9ce99fc18c",
   "metadata": {},
   "outputs": [
    {
     "data": {
      "text/plain": [
       "array([11, 12, 13, 14, 15, 16, 17, 18, 19, 20, 21, 22])"
      ]
     },
     "execution_count": 29,
     "metadata": {},
     "output_type": "execute_result"
    }
   ],
   "source": [
    "import numpy as np\n",
    "#a=[1,2,3,4,24,4,3,4]\n",
    "arr=np.arange(1,23)\n",
    "arr[arr>10]"
   ]
  },
  {
   "cell_type": "code",
   "execution_count": 43,
   "id": "dfd403ee-701e-4adf-8f33-53411996409c",
   "metadata": {},
   "outputs": [
    {
     "data": {
      "text/plain": [
       "array([10])"
      ]
     },
     "execution_count": 43,
     "metadata": {},
     "output_type": "execute_result"
    }
   ],
   "source": [
    "import numpy as np\n",
    "arr=np.arange(1,25)\n",
    "arr[arr==10]"
   ]
  },
  {
   "cell_type": "code",
   "execution_count": 51,
   "id": "f5871cfc-6d3a-44b2-a8ed-42ecbdc3d151",
   "metadata": {},
   "outputs": [
    {
     "name": "stdin",
     "output_type": "stream",
     "text": [
      "enter your size of Array 5\n",
      "enter your value 1\n",
      "enter your value 3\n",
      "enter your value 2\n",
      "enter your value 0\n",
      "enter your value 9\n"
     ]
    },
    {
     "data": {
      "text/plain": [
       "array([3, 9])"
      ]
     },
     "execution_count": 51,
     "metadata": {},
     "output_type": "execute_result"
    }
   ],
   "source": [
    "import numpy as np\n",
    "a=[]\n",
    "size=int(input('enter your size of Array'))\n",
    "for i in range(size):\n",
    "    val=int(input('enter your value'))\n",
    "    a.append(val)\n",
    "\n",
    "arr=np.array(a)\n",
    "arr[arr>2]"
   ]
  },
  {
   "cell_type": "code",
   "execution_count": 53,
   "id": "4d7a15ab-4747-4527-b9d6-ad5b398d2838",
   "metadata": {},
   "outputs": [
    {
     "name": "stdin",
     "output_type": "stream",
     "text": [
      "enter your size of Array 10\n",
      "enter your value 2\n",
      "enter your value 3\n",
      "enter your value 1\n",
      "enter your value 5\n",
      "enter your value 6\n",
      "enter your value 8\n",
      "enter your value 10\n",
      "enter your value 6\n",
      "enter your value 12\n",
      "enter your value 13\n"
     ]
    },
    {
     "data": {
      "text/plain": [
       "array([ 2,  6,  8, 10,  6, 12])"
      ]
     },
     "execution_count": 53,
     "metadata": {},
     "output_type": "execute_result"
    }
   ],
   "source": [
    "import numpy as np\n",
    "a=[]\n",
    "size=int(input('enter your size of Array'))\n",
    "for i in range(size):\n",
    "    val=int(input('enter your value'))\n",
    "    a.append(val)\n",
    "\n",
    "arr=np.array(a)\n",
    "arr[arr%2==0]"
   ]
  },
  {
   "cell_type": "code",
   "execution_count": 59,
   "id": "71a57240-4bd6-434a-a10d-9a3f133b8364",
   "metadata": {},
   "outputs": [
    {
     "name": "stdin",
     "output_type": "stream",
     "text": [
      "enter your size of Array 5\n",
      "enter your value 23\n",
      "enter your value 45\n",
      "enter your value 1\n",
      "enter your value 2\n",
      "enter your value 3\n"
     ]
    },
    {
     "name": "stdout",
     "output_type": "stream",
     "text": [
      "[0 0 1 2 3]\n"
     ]
    }
   ],
   "source": [
    "import numpy as np\n",
    "a=[]\n",
    "size=int(input('enter your size of Array'))\n",
    "for i in range(size):\n",
    "    val=int(input('enter your value'))\n",
    "    a.append(val)\n",
    "\n",
    "arr=np.array(a)\n",
    "\n",
    "arr[arr>10]=0\n",
    "print(arr)"
   ]
  },
  {
   "cell_type": "code",
   "execution_count": null,
   "id": "7ba557b7-f758-4398-be88-43f3626e09d4",
   "metadata": {},
   "outputs": [],
   "source": []
  }
 ],
 "metadata": {
  "kernelspec": {
   "display_name": "Python 3 (ipykernel)",
   "language": "python",
   "name": "python3"
  },
  "language_info": {
   "codemirror_mode": {
    "name": "ipython",
    "version": 3
   },
   "file_extension": ".py",
   "mimetype": "text/x-python",
   "name": "python",
   "nbconvert_exporter": "python",
   "pygments_lexer": "ipython3",
   "version": "3.12.7"
  }
 },
 "nbformat": 4,
 "nbformat_minor": 5
}
